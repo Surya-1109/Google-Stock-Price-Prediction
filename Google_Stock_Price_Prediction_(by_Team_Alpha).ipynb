{
  "cells": [
    {
      "cell_type": "markdown",
      "metadata": {
        "id": "D1FRMXaNupvk"
      },
      "source": [
        "\n",
        "\n",
        "## **Google Stock Price Prediction Using Comprehensive Regression Analysis**\n",
        "##**Team name : Team Alpha**"
      ]
    },
    {
      "cell_type": "markdown",
      "source": [
        "# **Import Libraries**"
      ],
      "metadata": {
        "id": "uMfqfIa0Adoy"
      }
    },
    {
      "cell_type": "code",
      "source": [
        "import numpy as np\n",
        "import pandas as pd\n",
        "import random\n",
        "import time\n",
        "import matplotlib.pyplot as plt\n",
        "from sklearn.model_selection import train_test_split\n",
        "from sklearn.linear_model import LogisticRegression\n",
        "from sklearn.metrics import accuracy_score, classification_report\n",
        "from sklearn.preprocessing import StandardScaler\n",
        "from sklearn.decomposition import TruncatedSVD\n",
        "from sklearn.linear_model import SGDRegressor\n",
        "from sklearn.preprocessing import PolynomialFeatures\n",
        "from sklearn.linear_model import Ridge\n",
        "from sklearn.linear_model import Lasso\n",
        "from sklearn.linear_model import LinearRegression\n",
        "from sklearn.metrics import r2_score, mean_absolute_error, mean_squared_error\n",
        "from sklearn.preprocessing import StandardScaler\n",
        "from sklearn.linear_model import ElasticNet\n",
        "from sklearn.linear_model import Ridge, Lasso, ElasticNet, LinearRegression\n",
        "from sklearn.metrics import mean_squared_error, mean_absolute_error, r2_score\n",
        "from sklearn.preprocessing import PolynomialFeatures\n",
        "from sklearn.pipeline import make_pipeline\n",
        "from sklearn.utils import shuffle\n"
      ],
      "metadata": {
        "id": "NBSKfSOEjHYW"
      },
      "execution_count": null,
      "outputs": []
    },
    {
      "cell_type": "markdown",
      "metadata": {
        "id": "1VpL6BwIXcMy"
      },
      "source": [
        "# **LOADING THE DATA SET**"
      ]
    },
    {
      "cell_type": "code",
      "execution_count": null,
      "metadata": {
        "colab": {
          "base_uri": "https://localhost:8080/",
          "height": 423
        },
        "id": "SU8PLLDcbkfx",
        "outputId": "4c9bedb0-e6b4-41ab-fb23-b442f99292b4"
      },
      "outputs": [
        {
          "output_type": "execute_result",
          "data": {
            "text/plain": [
              "            Date        Open        High         Low       Close   Adj Close  \\\n",
              "0     2004-08-19    2.490664    2.591785    2.390042    2.499133    2.499133   \n",
              "1     2004-08-20    2.515820    2.716817    2.503118    2.697639    2.697639   \n",
              "2     2004-08-23    2.758411    2.826406    2.716070    2.724787    2.724787   \n",
              "3     2004-08-24    2.770615    2.779581    2.579581    2.611960    2.611960   \n",
              "4     2004-08-25    2.614201    2.689918    2.587302    2.640104    2.640104   \n",
              "...          ...         ...         ...         ...         ...         ...   \n",
              "4837  2023-11-06  130.220001  131.559998  129.929993  131.449997  131.449997   \n",
              "4838  2023-11-07  131.979996  133.279999  131.139999  132.399994  132.399994   \n",
              "4839  2023-11-08  132.360001  133.539993  132.160004  133.259995  133.259995   \n",
              "4840  2023-11-09  133.360001  133.960007  131.509995  131.690002  131.690002   \n",
              "4841  2023-11-10  131.529999  134.270004  130.869995  134.059998  134.059998   \n",
              "\n",
              "         Volume  \n",
              "0     897427216  \n",
              "1     458857488  \n",
              "2     366857939  \n",
              "3     306396159  \n",
              "4     184645512  \n",
              "...         ...  \n",
              "4837   15360400  \n",
              "4838   19223800  \n",
              "4839   15093600  \n",
              "4840   17976500  \n",
              "4841   20872900  \n",
              "\n",
              "[4842 rows x 7 columns]"
            ],
            "text/html": [
              "\n",
              "  <div id=\"df-450ca817-e418-4fe1-a0d5-91f53d6e7967\" class=\"colab-df-container\">\n",
              "    <div>\n",
              "<style scoped>\n",
              "    .dataframe tbody tr th:only-of-type {\n",
              "        vertical-align: middle;\n",
              "    }\n",
              "\n",
              "    .dataframe tbody tr th {\n",
              "        vertical-align: top;\n",
              "    }\n",
              "\n",
              "    .dataframe thead th {\n",
              "        text-align: right;\n",
              "    }\n",
              "</style>\n",
              "<table border=\"1\" class=\"dataframe\">\n",
              "  <thead>\n",
              "    <tr style=\"text-align: right;\">\n",
              "      <th></th>\n",
              "      <th>Date</th>\n",
              "      <th>Open</th>\n",
              "      <th>High</th>\n",
              "      <th>Low</th>\n",
              "      <th>Close</th>\n",
              "      <th>Adj Close</th>\n",
              "      <th>Volume</th>\n",
              "    </tr>\n",
              "  </thead>\n",
              "  <tbody>\n",
              "    <tr>\n",
              "      <th>0</th>\n",
              "      <td>2004-08-19</td>\n",
              "      <td>2.490664</td>\n",
              "      <td>2.591785</td>\n",
              "      <td>2.390042</td>\n",
              "      <td>2.499133</td>\n",
              "      <td>2.499133</td>\n",
              "      <td>897427216</td>\n",
              "    </tr>\n",
              "    <tr>\n",
              "      <th>1</th>\n",
              "      <td>2004-08-20</td>\n",
              "      <td>2.515820</td>\n",
              "      <td>2.716817</td>\n",
              "      <td>2.503118</td>\n",
              "      <td>2.697639</td>\n",
              "      <td>2.697639</td>\n",
              "      <td>458857488</td>\n",
              "    </tr>\n",
              "    <tr>\n",
              "      <th>2</th>\n",
              "      <td>2004-08-23</td>\n",
              "      <td>2.758411</td>\n",
              "      <td>2.826406</td>\n",
              "      <td>2.716070</td>\n",
              "      <td>2.724787</td>\n",
              "      <td>2.724787</td>\n",
              "      <td>366857939</td>\n",
              "    </tr>\n",
              "    <tr>\n",
              "      <th>3</th>\n",
              "      <td>2004-08-24</td>\n",
              "      <td>2.770615</td>\n",
              "      <td>2.779581</td>\n",
              "      <td>2.579581</td>\n",
              "      <td>2.611960</td>\n",
              "      <td>2.611960</td>\n",
              "      <td>306396159</td>\n",
              "    </tr>\n",
              "    <tr>\n",
              "      <th>4</th>\n",
              "      <td>2004-08-25</td>\n",
              "      <td>2.614201</td>\n",
              "      <td>2.689918</td>\n",
              "      <td>2.587302</td>\n",
              "      <td>2.640104</td>\n",
              "      <td>2.640104</td>\n",
              "      <td>184645512</td>\n",
              "    </tr>\n",
              "    <tr>\n",
              "      <th>...</th>\n",
              "      <td>...</td>\n",
              "      <td>...</td>\n",
              "      <td>...</td>\n",
              "      <td>...</td>\n",
              "      <td>...</td>\n",
              "      <td>...</td>\n",
              "      <td>...</td>\n",
              "    </tr>\n",
              "    <tr>\n",
              "      <th>4837</th>\n",
              "      <td>2023-11-06</td>\n",
              "      <td>130.220001</td>\n",
              "      <td>131.559998</td>\n",
              "      <td>129.929993</td>\n",
              "      <td>131.449997</td>\n",
              "      <td>131.449997</td>\n",
              "      <td>15360400</td>\n",
              "    </tr>\n",
              "    <tr>\n",
              "      <th>4838</th>\n",
              "      <td>2023-11-07</td>\n",
              "      <td>131.979996</td>\n",
              "      <td>133.279999</td>\n",
              "      <td>131.139999</td>\n",
              "      <td>132.399994</td>\n",
              "      <td>132.399994</td>\n",
              "      <td>19223800</td>\n",
              "    </tr>\n",
              "    <tr>\n",
              "      <th>4839</th>\n",
              "      <td>2023-11-08</td>\n",
              "      <td>132.360001</td>\n",
              "      <td>133.539993</td>\n",
              "      <td>132.160004</td>\n",
              "      <td>133.259995</td>\n",
              "      <td>133.259995</td>\n",
              "      <td>15093600</td>\n",
              "    </tr>\n",
              "    <tr>\n",
              "      <th>4840</th>\n",
              "      <td>2023-11-09</td>\n",
              "      <td>133.360001</td>\n",
              "      <td>133.960007</td>\n",
              "      <td>131.509995</td>\n",
              "      <td>131.690002</td>\n",
              "      <td>131.690002</td>\n",
              "      <td>17976500</td>\n",
              "    </tr>\n",
              "    <tr>\n",
              "      <th>4841</th>\n",
              "      <td>2023-11-10</td>\n",
              "      <td>131.529999</td>\n",
              "      <td>134.270004</td>\n",
              "      <td>130.869995</td>\n",
              "      <td>134.059998</td>\n",
              "      <td>134.059998</td>\n",
              "      <td>20872900</td>\n",
              "    </tr>\n",
              "  </tbody>\n",
              "</table>\n",
              "<p>4842 rows × 7 columns</p>\n",
              "</div>\n",
              "    <div class=\"colab-df-buttons\">\n",
              "\n",
              "  <div class=\"colab-df-container\">\n",
              "    <button class=\"colab-df-convert\" onclick=\"convertToInteractive('df-450ca817-e418-4fe1-a0d5-91f53d6e7967')\"\n",
              "            title=\"Convert this dataframe to an interactive table.\"\n",
              "            style=\"display:none;\">\n",
              "\n",
              "  <svg xmlns=\"http://www.w3.org/2000/svg\" height=\"24px\" viewBox=\"0 -960 960 960\">\n",
              "    <path d=\"M120-120v-720h720v720H120Zm60-500h600v-160H180v160Zm220 220h160v-160H400v160Zm0 220h160v-160H400v160ZM180-400h160v-160H180v160Zm440 0h160v-160H620v160ZM180-180h160v-160H180v160Zm440 0h160v-160H620v160Z\"/>\n",
              "  </svg>\n",
              "    </button>\n",
              "\n",
              "  <style>\n",
              "    .colab-df-container {\n",
              "      display:flex;\n",
              "      gap: 12px;\n",
              "    }\n",
              "\n",
              "    .colab-df-convert {\n",
              "      background-color: #E8F0FE;\n",
              "      border: none;\n",
              "      border-radius: 50%;\n",
              "      cursor: pointer;\n",
              "      display: none;\n",
              "      fill: #1967D2;\n",
              "      height: 32px;\n",
              "      padding: 0 0 0 0;\n",
              "      width: 32px;\n",
              "    }\n",
              "\n",
              "    .colab-df-convert:hover {\n",
              "      background-color: #E2EBFA;\n",
              "      box-shadow: 0px 1px 2px rgba(60, 64, 67, 0.3), 0px 1px 3px 1px rgba(60, 64, 67, 0.15);\n",
              "      fill: #174EA6;\n",
              "    }\n",
              "\n",
              "    .colab-df-buttons div {\n",
              "      margin-bottom: 4px;\n",
              "    }\n",
              "\n",
              "    [theme=dark] .colab-df-convert {\n",
              "      background-color: #3B4455;\n",
              "      fill: #D2E3FC;\n",
              "    }\n",
              "\n",
              "    [theme=dark] .colab-df-convert:hover {\n",
              "      background-color: #434B5C;\n",
              "      box-shadow: 0px 1px 3px 1px rgba(0, 0, 0, 0.15);\n",
              "      filter: drop-shadow(0px 1px 2px rgba(0, 0, 0, 0.3));\n",
              "      fill: #FFFFFF;\n",
              "    }\n",
              "  </style>\n",
              "\n",
              "    <script>\n",
              "      const buttonEl =\n",
              "        document.querySelector('#df-450ca817-e418-4fe1-a0d5-91f53d6e7967 button.colab-df-convert');\n",
              "      buttonEl.style.display =\n",
              "        google.colab.kernel.accessAllowed ? 'block' : 'none';\n",
              "\n",
              "      async function convertToInteractive(key) {\n",
              "        const element = document.querySelector('#df-450ca817-e418-4fe1-a0d5-91f53d6e7967');\n",
              "        const dataTable =\n",
              "          await google.colab.kernel.invokeFunction('convertToInteractive',\n",
              "                                                    [key], {});\n",
              "        if (!dataTable) return;\n",
              "\n",
              "        const docLinkHtml = 'Like what you see? Visit the ' +\n",
              "          '<a target=\"_blank\" href=https://colab.research.google.com/notebooks/data_table.ipynb>data table notebook</a>'\n",
              "          + ' to learn more about interactive tables.';\n",
              "        element.innerHTML = '';\n",
              "        dataTable['output_type'] = 'display_data';\n",
              "        await google.colab.output.renderOutput(dataTable, element);\n",
              "        const docLink = document.createElement('div');\n",
              "        docLink.innerHTML = docLinkHtml;\n",
              "        element.appendChild(docLink);\n",
              "      }\n",
              "    </script>\n",
              "  </div>\n",
              "\n",
              "\n",
              "    <div id=\"df-c861dad9-8c4b-43c9-a226-681a7e3786f6\">\n",
              "      <button class=\"colab-df-quickchart\" onclick=\"quickchart('df-c861dad9-8c4b-43c9-a226-681a7e3786f6')\"\n",
              "                title=\"Suggest charts\"\n",
              "                style=\"display:none;\">\n",
              "\n",
              "<svg xmlns=\"http://www.w3.org/2000/svg\" height=\"24px\"viewBox=\"0 0 24 24\"\n",
              "     width=\"24px\">\n",
              "    <g>\n",
              "        <path d=\"M19 3H5c-1.1 0-2 .9-2 2v14c0 1.1.9 2 2 2h14c1.1 0 2-.9 2-2V5c0-1.1-.9-2-2-2zM9 17H7v-7h2v7zm4 0h-2V7h2v10zm4 0h-2v-4h2v4z\"/>\n",
              "    </g>\n",
              "</svg>\n",
              "      </button>\n",
              "\n",
              "<style>\n",
              "  .colab-df-quickchart {\n",
              "      --bg-color: #E8F0FE;\n",
              "      --fill-color: #1967D2;\n",
              "      --hover-bg-color: #E2EBFA;\n",
              "      --hover-fill-color: #174EA6;\n",
              "      --disabled-fill-color: #AAA;\n",
              "      --disabled-bg-color: #DDD;\n",
              "  }\n",
              "\n",
              "  [theme=dark] .colab-df-quickchart {\n",
              "      --bg-color: #3B4455;\n",
              "      --fill-color: #D2E3FC;\n",
              "      --hover-bg-color: #434B5C;\n",
              "      --hover-fill-color: #FFFFFF;\n",
              "      --disabled-bg-color: #3B4455;\n",
              "      --disabled-fill-color: #666;\n",
              "  }\n",
              "\n",
              "  .colab-df-quickchart {\n",
              "    background-color: var(--bg-color);\n",
              "    border: none;\n",
              "    border-radius: 50%;\n",
              "    cursor: pointer;\n",
              "    display: none;\n",
              "    fill: var(--fill-color);\n",
              "    height: 32px;\n",
              "    padding: 0;\n",
              "    width: 32px;\n",
              "  }\n",
              "\n",
              "  .colab-df-quickchart:hover {\n",
              "    background-color: var(--hover-bg-color);\n",
              "    box-shadow: 0 1px 2px rgba(60, 64, 67, 0.3), 0 1px 3px 1px rgba(60, 64, 67, 0.15);\n",
              "    fill: var(--button-hover-fill-color);\n",
              "  }\n",
              "\n",
              "  .colab-df-quickchart-complete:disabled,\n",
              "  .colab-df-quickchart-complete:disabled:hover {\n",
              "    background-color: var(--disabled-bg-color);\n",
              "    fill: var(--disabled-fill-color);\n",
              "    box-shadow: none;\n",
              "  }\n",
              "\n",
              "  .colab-df-spinner {\n",
              "    border: 2px solid var(--fill-color);\n",
              "    border-color: transparent;\n",
              "    border-bottom-color: var(--fill-color);\n",
              "    animation:\n",
              "      spin 1s steps(1) infinite;\n",
              "  }\n",
              "\n",
              "  @keyframes spin {\n",
              "    0% {\n",
              "      border-color: transparent;\n",
              "      border-bottom-color: var(--fill-color);\n",
              "      border-left-color: var(--fill-color);\n",
              "    }\n",
              "    20% {\n",
              "      border-color: transparent;\n",
              "      border-left-color: var(--fill-color);\n",
              "      border-top-color: var(--fill-color);\n",
              "    }\n",
              "    30% {\n",
              "      border-color: transparent;\n",
              "      border-left-color: var(--fill-color);\n",
              "      border-top-color: var(--fill-color);\n",
              "      border-right-color: var(--fill-color);\n",
              "    }\n",
              "    40% {\n",
              "      border-color: transparent;\n",
              "      border-right-color: var(--fill-color);\n",
              "      border-top-color: var(--fill-color);\n",
              "    }\n",
              "    60% {\n",
              "      border-color: transparent;\n",
              "      border-right-color: var(--fill-color);\n",
              "    }\n",
              "    80% {\n",
              "      border-color: transparent;\n",
              "      border-right-color: var(--fill-color);\n",
              "      border-bottom-color: var(--fill-color);\n",
              "    }\n",
              "    90% {\n",
              "      border-color: transparent;\n",
              "      border-bottom-color: var(--fill-color);\n",
              "    }\n",
              "  }\n",
              "</style>\n",
              "\n",
              "      <script>\n",
              "        async function quickchart(key) {\n",
              "          const quickchartButtonEl =\n",
              "            document.querySelector('#' + key + ' button');\n",
              "          quickchartButtonEl.disabled = true;  // To prevent multiple clicks.\n",
              "          quickchartButtonEl.classList.add('colab-df-spinner');\n",
              "          try {\n",
              "            const charts = await google.colab.kernel.invokeFunction(\n",
              "                'suggestCharts', [key], {});\n",
              "          } catch (error) {\n",
              "            console.error('Error during call to suggestCharts:', error);\n",
              "          }\n",
              "          quickchartButtonEl.classList.remove('colab-df-spinner');\n",
              "          quickchartButtonEl.classList.add('colab-df-quickchart-complete');\n",
              "        }\n",
              "        (() => {\n",
              "          let quickchartButtonEl =\n",
              "            document.querySelector('#df-c861dad9-8c4b-43c9-a226-681a7e3786f6 button');\n",
              "          quickchartButtonEl.style.display =\n",
              "            google.colab.kernel.accessAllowed ? 'block' : 'none';\n",
              "        })();\n",
              "      </script>\n",
              "    </div>\n",
              "\n",
              "  <div id=\"id_df26f77b-59f8-4d1a-8f16-14fea5b3c35c\">\n",
              "    <style>\n",
              "      .colab-df-generate {\n",
              "        background-color: #E8F0FE;\n",
              "        border: none;\n",
              "        border-radius: 50%;\n",
              "        cursor: pointer;\n",
              "        display: none;\n",
              "        fill: #1967D2;\n",
              "        height: 32px;\n",
              "        padding: 0 0 0 0;\n",
              "        width: 32px;\n",
              "      }\n",
              "\n",
              "      .colab-df-generate:hover {\n",
              "        background-color: #E2EBFA;\n",
              "        box-shadow: 0px 1px 2px rgba(60, 64, 67, 0.3), 0px 1px 3px 1px rgba(60, 64, 67, 0.15);\n",
              "        fill: #174EA6;\n",
              "      }\n",
              "\n",
              "      [theme=dark] .colab-df-generate {\n",
              "        background-color: #3B4455;\n",
              "        fill: #D2E3FC;\n",
              "      }\n",
              "\n",
              "      [theme=dark] .colab-df-generate:hover {\n",
              "        background-color: #434B5C;\n",
              "        box-shadow: 0px 1px 3px 1px rgba(0, 0, 0, 0.15);\n",
              "        filter: drop-shadow(0px 1px 2px rgba(0, 0, 0, 0.3));\n",
              "        fill: #FFFFFF;\n",
              "      }\n",
              "    </style>\n",
              "    <button class=\"colab-df-generate\" onclick=\"generateWithVariable('df')\"\n",
              "            title=\"Generate code using this dataframe.\"\n",
              "            style=\"display:none;\">\n",
              "\n",
              "  <svg xmlns=\"http://www.w3.org/2000/svg\" height=\"24px\"viewBox=\"0 0 24 24\"\n",
              "       width=\"24px\">\n",
              "    <path d=\"M7,19H8.4L18.45,9,17,7.55,7,17.6ZM5,21V16.75L18.45,3.32a2,2,0,0,1,2.83,0l1.4,1.43a1.91,1.91,0,0,1,.58,1.4,1.91,1.91,0,0,1-.58,1.4L9.25,21ZM18.45,9,17,7.55Zm-12,3A5.31,5.31,0,0,0,4.9,8.1,5.31,5.31,0,0,0,1,6.5,5.31,5.31,0,0,0,4.9,4.9,5.31,5.31,0,0,0,6.5,1,5.31,5.31,0,0,0,8.1,4.9,5.31,5.31,0,0,0,12,6.5,5.46,5.46,0,0,0,6.5,12Z\"/>\n",
              "  </svg>\n",
              "    </button>\n",
              "    <script>\n",
              "      (() => {\n",
              "      const buttonEl =\n",
              "        document.querySelector('#id_df26f77b-59f8-4d1a-8f16-14fea5b3c35c button.colab-df-generate');\n",
              "      buttonEl.style.display =\n",
              "        google.colab.kernel.accessAllowed ? 'block' : 'none';\n",
              "\n",
              "      buttonEl.onclick = () => {\n",
              "        google.colab.notebook.generateWithVariable('df');\n",
              "      }\n",
              "      })();\n",
              "    </script>\n",
              "  </div>\n",
              "\n",
              "    </div>\n",
              "  </div>\n"
            ],
            "application/vnd.google.colaboratory.intrinsic+json": {
              "type": "dataframe",
              "variable_name": "df",
              "summary": "{\n  \"name\": \"df\",\n  \"rows\": 4842,\n  \"fields\": [\n    {\n      \"column\": \"Date\",\n      \"properties\": {\n        \"dtype\": \"object\",\n        \"num_unique_values\": 4842,\n        \"samples\": [\n          \"2023-09-27\",\n          \"2016-11-07\",\n          \"2015-04-30\"\n        ],\n        \"semantic_type\": \"\",\n        \"description\": \"\"\n      }\n    },\n    {\n      \"column\": \"Open\",\n      \"properties\": {\n        \"dtype\": \"number\",\n        \"std\": 38.267894906864065,\n        \"min\": 2.470489978790283,\n        \"max\": 151.86349487304688,\n        \"num_unique_values\": 4699,\n        \"samples\": [\n          54.84749984741211,\n          13.39902687072754,\n          10.834389686584473\n        ],\n        \"semantic_type\": \"\",\n        \"description\": \"\"\n      }\n    },\n    {\n      \"column\": \"High\",\n      \"properties\": {\n        \"dtype\": \"number\",\n        \"std\": 38.7082311071834,\n        \"min\": 2.5340020656585693,\n        \"max\": 152.10000610351562,\n        \"num_unique_values\": 4697,\n        \"samples\": [\n          15.42593002319336,\n          60.95349884033203,\n          118.08499908447266\n        ],\n        \"semantic_type\": \"\",\n        \"description\": \"\"\n      }\n    },\n    {\n      \"column\": \"Low\",\n      \"properties\": {\n        \"dtype\": \"number\",\n        \"std\": 37.871643682265045,\n        \"min\": 2.3900420665740967,\n        \"max\": 149.8874969482422,\n        \"num_unique_values\": 4728,\n        \"samples\": [\n          77.25150299072266,\n          36.96500015258789,\n          13.286698341369627\n        ],\n        \"semantic_type\": \"\",\n        \"description\": \"\"\n      }\n    },\n    {\n      \"column\": \"Close\",\n      \"properties\": {\n        \"dtype\": \"number\",\n        \"std\": 38.29520418695604,\n        \"min\": 2.490912914276123,\n        \"max\": 150.70899963378906,\n        \"num_unique_values\": 4751,\n        \"samples\": [\n          73.8115005493164,\n          7.72529411315918,\n          8.920812606811523\n        ],\n        \"semantic_type\": \"\",\n        \"description\": \"\"\n      }\n    },\n    {\n      \"column\": \"Adj Close\",\n      \"properties\": {\n        \"dtype\": \"number\",\n        \"std\": 38.29520418695604,\n        \"min\": 2.490912914276123,\n        \"max\": 150.70899963378906,\n        \"num_unique_values\": 4751,\n        \"samples\": [\n          73.8115005493164,\n          7.72529411315918,\n          8.920812606811523\n        ],\n        \"semantic_type\": \"\",\n        \"description\": \"\"\n      }\n    },\n    {\n      \"column\": \"Volume\",\n      \"properties\": {\n        \"dtype\": \"number\",\n        \"std\": 151383997,\n        \"min\": 158434,\n        \"max\": 1650832619,\n        \"num_unique_values\": 4731,\n        \"samples\": [\n          142953825,\n          26122000,\n          428307406\n        ],\n        \"semantic_type\": \"\",\n        \"description\": \"\"\n      }\n    }\n  ]\n}"
            }
          },
          "metadata": {},
          "execution_count": 2
        }
      ],
      "source": [
        "df = pd.read_csv(\"google_stock_price.csv\")\n",
        "df"
      ]
    },
    {
      "cell_type": "code",
      "source": [
        "df.shape"
      ],
      "metadata": {
        "colab": {
          "base_uri": "https://localhost:8080/"
        },
        "id": "zFF4VOEj56Vw",
        "outputId": "618819a7-b497-41ba-90f5-ffb382cfba04"
      },
      "execution_count": null,
      "outputs": [
        {
          "output_type": "execute_result",
          "data": {
            "text/plain": [
              "(4842, 7)"
            ]
          },
          "metadata": {},
          "execution_count": 3
        }
      ]
    },
    {
      "cell_type": "markdown",
      "metadata": {
        "id": "kp0sQUYaXm7b"
      },
      "source": [
        "# **DATA INFORMATION**"
      ]
    },
    {
      "cell_type": "code",
      "execution_count": null,
      "metadata": {
        "colab": {
          "base_uri": "https://localhost:8080/"
        },
        "id": "Eubc0NGZVXQO",
        "outputId": "c79aead1-cd3f-4753-9423-dab7abb88696"
      },
      "outputs": [
        {
          "output_type": "stream",
          "name": "stdout",
          "text": [
            "<class 'pandas.core.frame.DataFrame'>\n",
            "RangeIndex: 4842 entries, 0 to 4841\n",
            "Data columns (total 7 columns):\n",
            " #   Column     Non-Null Count  Dtype  \n",
            "---  ------     --------------  -----  \n",
            " 0   Date       4842 non-null   object \n",
            " 1   Open       4842 non-null   float64\n",
            " 2   High       4842 non-null   float64\n",
            " 3   Low        4842 non-null   float64\n",
            " 4   Close      4842 non-null   float64\n",
            " 5   Adj Close  4842 non-null   float64\n",
            " 6   Volume     4842 non-null   int64  \n",
            "dtypes: float64(5), int64(1), object(1)\n",
            "memory usage: 264.9+ KB\n"
          ]
        }
      ],
      "source": [
        "df.info()"
      ]
    },
    {
      "cell_type": "markdown",
      "metadata": {
        "id": "mhhSFuGPXy6B"
      },
      "source": [
        "# **NAN VALUE CHECKING**"
      ]
    },
    {
      "cell_type": "code",
      "execution_count": null,
      "metadata": {
        "colab": {
          "base_uri": "https://localhost:8080/",
          "height": 303
        },
        "id": "bneYDIXKVUm1",
        "outputId": "ca75163a-fe37-4e7a-a583-8ceb0205b080"
      },
      "outputs": [
        {
          "output_type": "execute_result",
          "data": {
            "text/plain": [
              "Date         0\n",
              "Open         0\n",
              "High         0\n",
              "Low          0\n",
              "Close        0\n",
              "Adj Close    0\n",
              "Volume       0\n",
              "dtype: int64"
            ],
            "text/html": [
              "<div>\n",
              "<style scoped>\n",
              "    .dataframe tbody tr th:only-of-type {\n",
              "        vertical-align: middle;\n",
              "    }\n",
              "\n",
              "    .dataframe tbody tr th {\n",
              "        vertical-align: top;\n",
              "    }\n",
              "\n",
              "    .dataframe thead th {\n",
              "        text-align: right;\n",
              "    }\n",
              "</style>\n",
              "<table border=\"1\" class=\"dataframe\">\n",
              "  <thead>\n",
              "    <tr style=\"text-align: right;\">\n",
              "      <th></th>\n",
              "      <th>0</th>\n",
              "    </tr>\n",
              "  </thead>\n",
              "  <tbody>\n",
              "    <tr>\n",
              "      <th>Date</th>\n",
              "      <td>0</td>\n",
              "    </tr>\n",
              "    <tr>\n",
              "      <th>Open</th>\n",
              "      <td>0</td>\n",
              "    </tr>\n",
              "    <tr>\n",
              "      <th>High</th>\n",
              "      <td>0</td>\n",
              "    </tr>\n",
              "    <tr>\n",
              "      <th>Low</th>\n",
              "      <td>0</td>\n",
              "    </tr>\n",
              "    <tr>\n",
              "      <th>Close</th>\n",
              "      <td>0</td>\n",
              "    </tr>\n",
              "    <tr>\n",
              "      <th>Adj Close</th>\n",
              "      <td>0</td>\n",
              "    </tr>\n",
              "    <tr>\n",
              "      <th>Volume</th>\n",
              "      <td>0</td>\n",
              "    </tr>\n",
              "  </tbody>\n",
              "</table>\n",
              "</div><br><label><b>dtype:</b> int64</label>"
            ]
          },
          "metadata": {},
          "execution_count": 5
        }
      ],
      "source": [
        "df.isna().sum()"
      ]
    },
    {
      "cell_type": "code",
      "execution_count": null,
      "metadata": {
        "colab": {
          "base_uri": "https://localhost:8080/",
          "height": 303
        },
        "id": "QLZ1903aWNo0",
        "outputId": "48756042-da89-48e6-aeb2-189ad50c08ef"
      },
      "outputs": [
        {
          "output_type": "execute_result",
          "data": {
            "text/plain": [
              "Date          object\n",
              "Open         float64\n",
              "High         float64\n",
              "Low          float64\n",
              "Close        float64\n",
              "Adj Close    float64\n",
              "Volume         int64\n",
              "dtype: object"
            ],
            "text/html": [
              "<div>\n",
              "<style scoped>\n",
              "    .dataframe tbody tr th:only-of-type {\n",
              "        vertical-align: middle;\n",
              "    }\n",
              "\n",
              "    .dataframe tbody tr th {\n",
              "        vertical-align: top;\n",
              "    }\n",
              "\n",
              "    .dataframe thead th {\n",
              "        text-align: right;\n",
              "    }\n",
              "</style>\n",
              "<table border=\"1\" class=\"dataframe\">\n",
              "  <thead>\n",
              "    <tr style=\"text-align: right;\">\n",
              "      <th></th>\n",
              "      <th>0</th>\n",
              "    </tr>\n",
              "  </thead>\n",
              "  <tbody>\n",
              "    <tr>\n",
              "      <th>Date</th>\n",
              "      <td>object</td>\n",
              "    </tr>\n",
              "    <tr>\n",
              "      <th>Open</th>\n",
              "      <td>float64</td>\n",
              "    </tr>\n",
              "    <tr>\n",
              "      <th>High</th>\n",
              "      <td>float64</td>\n",
              "    </tr>\n",
              "    <tr>\n",
              "      <th>Low</th>\n",
              "      <td>float64</td>\n",
              "    </tr>\n",
              "    <tr>\n",
              "      <th>Close</th>\n",
              "      <td>float64</td>\n",
              "    </tr>\n",
              "    <tr>\n",
              "      <th>Adj Close</th>\n",
              "      <td>float64</td>\n",
              "    </tr>\n",
              "    <tr>\n",
              "      <th>Volume</th>\n",
              "      <td>int64</td>\n",
              "    </tr>\n",
              "  </tbody>\n",
              "</table>\n",
              "</div><br><label><b>dtype:</b> object</label>"
            ]
          },
          "metadata": {},
          "execution_count": 6
        }
      ],
      "source": [
        "df.dtypes"
      ]
    },
    {
      "cell_type": "markdown",
      "metadata": {
        "id": "5Hs4ylwRXrYd"
      },
      "source": [
        "# **DATA DESCRIPTION**\n",
        "\n"
      ]
    },
    {
      "cell_type": "code",
      "execution_count": null,
      "metadata": {
        "colab": {
          "base_uri": "https://localhost:8080/",
          "height": 300
        },
        "id": "flf26OdtWXEi",
        "outputId": "9defef80-9878-4862-8653-fa9a50ec46ee"
      },
      "outputs": [
        {
          "output_type": "execute_result",
          "data": {
            "text/plain": [
              "              Open         High          Low        Close    Adj Close  \\\n",
              "count  4842.000000  4842.000000  4842.000000  4842.000000  4842.000000   \n",
              "mean     41.164402    41.601906    40.745188    41.181457    41.181457   \n",
              "std      38.267895    38.708231    37.871644    38.295204    38.295204   \n",
              "min       2.470490     2.534002     2.390042     2.490913     2.490913   \n",
              "25%      12.819761    12.949089    12.702388    12.828043    12.828043   \n",
              "50%      26.470161    26.668148    26.259000    26.470153    26.470153   \n",
              "75%      57.197751    57.729501    56.633139    57.315001    57.315001   \n",
              "max     151.863495   152.100006   149.887497   150.709000   150.709000   \n",
              "\n",
              "             Volume  \n",
              "count  4.842000e+03  \n",
              "mean   1.192432e+08  \n",
              "std    1.513840e+08  \n",
              "min    1.584340e+05  \n",
              "25%    2.867350e+07  \n",
              "50%    6.202500e+07  \n",
              "75%    1.469819e+08  \n",
              "max    1.650833e+09  "
            ],
            "text/html": [
              "\n",
              "  <div id=\"df-ea6c76b6-209d-4d9c-8a86-88a21588f4d6\" class=\"colab-df-container\">\n",
              "    <div>\n",
              "<style scoped>\n",
              "    .dataframe tbody tr th:only-of-type {\n",
              "        vertical-align: middle;\n",
              "    }\n",
              "\n",
              "    .dataframe tbody tr th {\n",
              "        vertical-align: top;\n",
              "    }\n",
              "\n",
              "    .dataframe thead th {\n",
              "        text-align: right;\n",
              "    }\n",
              "</style>\n",
              "<table border=\"1\" class=\"dataframe\">\n",
              "  <thead>\n",
              "    <tr style=\"text-align: right;\">\n",
              "      <th></th>\n",
              "      <th>Open</th>\n",
              "      <th>High</th>\n",
              "      <th>Low</th>\n",
              "      <th>Close</th>\n",
              "      <th>Adj Close</th>\n",
              "      <th>Volume</th>\n",
              "    </tr>\n",
              "  </thead>\n",
              "  <tbody>\n",
              "    <tr>\n",
              "      <th>count</th>\n",
              "      <td>4842.000000</td>\n",
              "      <td>4842.000000</td>\n",
              "      <td>4842.000000</td>\n",
              "      <td>4842.000000</td>\n",
              "      <td>4842.000000</td>\n",
              "      <td>4.842000e+03</td>\n",
              "    </tr>\n",
              "    <tr>\n",
              "      <th>mean</th>\n",
              "      <td>41.164402</td>\n",
              "      <td>41.601906</td>\n",
              "      <td>40.745188</td>\n",
              "      <td>41.181457</td>\n",
              "      <td>41.181457</td>\n",
              "      <td>1.192432e+08</td>\n",
              "    </tr>\n",
              "    <tr>\n",
              "      <th>std</th>\n",
              "      <td>38.267895</td>\n",
              "      <td>38.708231</td>\n",
              "      <td>37.871644</td>\n",
              "      <td>38.295204</td>\n",
              "      <td>38.295204</td>\n",
              "      <td>1.513840e+08</td>\n",
              "    </tr>\n",
              "    <tr>\n",
              "      <th>min</th>\n",
              "      <td>2.470490</td>\n",
              "      <td>2.534002</td>\n",
              "      <td>2.390042</td>\n",
              "      <td>2.490913</td>\n",
              "      <td>2.490913</td>\n",
              "      <td>1.584340e+05</td>\n",
              "    </tr>\n",
              "    <tr>\n",
              "      <th>25%</th>\n",
              "      <td>12.819761</td>\n",
              "      <td>12.949089</td>\n",
              "      <td>12.702388</td>\n",
              "      <td>12.828043</td>\n",
              "      <td>12.828043</td>\n",
              "      <td>2.867350e+07</td>\n",
              "    </tr>\n",
              "    <tr>\n",
              "      <th>50%</th>\n",
              "      <td>26.470161</td>\n",
              "      <td>26.668148</td>\n",
              "      <td>26.259000</td>\n",
              "      <td>26.470153</td>\n",
              "      <td>26.470153</td>\n",
              "      <td>6.202500e+07</td>\n",
              "    </tr>\n",
              "    <tr>\n",
              "      <th>75%</th>\n",
              "      <td>57.197751</td>\n",
              "      <td>57.729501</td>\n",
              "      <td>56.633139</td>\n",
              "      <td>57.315001</td>\n",
              "      <td>57.315001</td>\n",
              "      <td>1.469819e+08</td>\n",
              "    </tr>\n",
              "    <tr>\n",
              "      <th>max</th>\n",
              "      <td>151.863495</td>\n",
              "      <td>152.100006</td>\n",
              "      <td>149.887497</td>\n",
              "      <td>150.709000</td>\n",
              "      <td>150.709000</td>\n",
              "      <td>1.650833e+09</td>\n",
              "    </tr>\n",
              "  </tbody>\n",
              "</table>\n",
              "</div>\n",
              "    <div class=\"colab-df-buttons\">\n",
              "\n",
              "  <div class=\"colab-df-container\">\n",
              "    <button class=\"colab-df-convert\" onclick=\"convertToInteractive('df-ea6c76b6-209d-4d9c-8a86-88a21588f4d6')\"\n",
              "            title=\"Convert this dataframe to an interactive table.\"\n",
              "            style=\"display:none;\">\n",
              "\n",
              "  <svg xmlns=\"http://www.w3.org/2000/svg\" height=\"24px\" viewBox=\"0 -960 960 960\">\n",
              "    <path d=\"M120-120v-720h720v720H120Zm60-500h600v-160H180v160Zm220 220h160v-160H400v160Zm0 220h160v-160H400v160ZM180-400h160v-160H180v160Zm440 0h160v-160H620v160ZM180-180h160v-160H180v160Zm440 0h160v-160H620v160Z\"/>\n",
              "  </svg>\n",
              "    </button>\n",
              "\n",
              "  <style>\n",
              "    .colab-df-container {\n",
              "      display:flex;\n",
              "      gap: 12px;\n",
              "    }\n",
              "\n",
              "    .colab-df-convert {\n",
              "      background-color: #E8F0FE;\n",
              "      border: none;\n",
              "      border-radius: 50%;\n",
              "      cursor: pointer;\n",
              "      display: none;\n",
              "      fill: #1967D2;\n",
              "      height: 32px;\n",
              "      padding: 0 0 0 0;\n",
              "      width: 32px;\n",
              "    }\n",
              "\n",
              "    .colab-df-convert:hover {\n",
              "      background-color: #E2EBFA;\n",
              "      box-shadow: 0px 1px 2px rgba(60, 64, 67, 0.3), 0px 1px 3px 1px rgba(60, 64, 67, 0.15);\n",
              "      fill: #174EA6;\n",
              "    }\n",
              "\n",
              "    .colab-df-buttons div {\n",
              "      margin-bottom: 4px;\n",
              "    }\n",
              "\n",
              "    [theme=dark] .colab-df-convert {\n",
              "      background-color: #3B4455;\n",
              "      fill: #D2E3FC;\n",
              "    }\n",
              "\n",
              "    [theme=dark] .colab-df-convert:hover {\n",
              "      background-color: #434B5C;\n",
              "      box-shadow: 0px 1px 3px 1px rgba(0, 0, 0, 0.15);\n",
              "      filter: drop-shadow(0px 1px 2px rgba(0, 0, 0, 0.3));\n",
              "      fill: #FFFFFF;\n",
              "    }\n",
              "  </style>\n",
              "\n",
              "    <script>\n",
              "      const buttonEl =\n",
              "        document.querySelector('#df-ea6c76b6-209d-4d9c-8a86-88a21588f4d6 button.colab-df-convert');\n",
              "      buttonEl.style.display =\n",
              "        google.colab.kernel.accessAllowed ? 'block' : 'none';\n",
              "\n",
              "      async function convertToInteractive(key) {\n",
              "        const element = document.querySelector('#df-ea6c76b6-209d-4d9c-8a86-88a21588f4d6');\n",
              "        const dataTable =\n",
              "          await google.colab.kernel.invokeFunction('convertToInteractive',\n",
              "                                                    [key], {});\n",
              "        if (!dataTable) return;\n",
              "\n",
              "        const docLinkHtml = 'Like what you see? Visit the ' +\n",
              "          '<a target=\"_blank\" href=https://colab.research.google.com/notebooks/data_table.ipynb>data table notebook</a>'\n",
              "          + ' to learn more about interactive tables.';\n",
              "        element.innerHTML = '';\n",
              "        dataTable['output_type'] = 'display_data';\n",
              "        await google.colab.output.renderOutput(dataTable, element);\n",
              "        const docLink = document.createElement('div');\n",
              "        docLink.innerHTML = docLinkHtml;\n",
              "        element.appendChild(docLink);\n",
              "      }\n",
              "    </script>\n",
              "  </div>\n",
              "\n",
              "\n",
              "    <div id=\"df-21526a31-d993-44e8-b8b0-b9ec5ac6154b\">\n",
              "      <button class=\"colab-df-quickchart\" onclick=\"quickchart('df-21526a31-d993-44e8-b8b0-b9ec5ac6154b')\"\n",
              "                title=\"Suggest charts\"\n",
              "                style=\"display:none;\">\n",
              "\n",
              "<svg xmlns=\"http://www.w3.org/2000/svg\" height=\"24px\"viewBox=\"0 0 24 24\"\n",
              "     width=\"24px\">\n",
              "    <g>\n",
              "        <path d=\"M19 3H5c-1.1 0-2 .9-2 2v14c0 1.1.9 2 2 2h14c1.1 0 2-.9 2-2V5c0-1.1-.9-2-2-2zM9 17H7v-7h2v7zm4 0h-2V7h2v10zm4 0h-2v-4h2v4z\"/>\n",
              "    </g>\n",
              "</svg>\n",
              "      </button>\n",
              "\n",
              "<style>\n",
              "  .colab-df-quickchart {\n",
              "      --bg-color: #E8F0FE;\n",
              "      --fill-color: #1967D2;\n",
              "      --hover-bg-color: #E2EBFA;\n",
              "      --hover-fill-color: #174EA6;\n",
              "      --disabled-fill-color: #AAA;\n",
              "      --disabled-bg-color: #DDD;\n",
              "  }\n",
              "\n",
              "  [theme=dark] .colab-df-quickchart {\n",
              "      --bg-color: #3B4455;\n",
              "      --fill-color: #D2E3FC;\n",
              "      --hover-bg-color: #434B5C;\n",
              "      --hover-fill-color: #FFFFFF;\n",
              "      --disabled-bg-color: #3B4455;\n",
              "      --disabled-fill-color: #666;\n",
              "  }\n",
              "\n",
              "  .colab-df-quickchart {\n",
              "    background-color: var(--bg-color);\n",
              "    border: none;\n",
              "    border-radius: 50%;\n",
              "    cursor: pointer;\n",
              "    display: none;\n",
              "    fill: var(--fill-color);\n",
              "    height: 32px;\n",
              "    padding: 0;\n",
              "    width: 32px;\n",
              "  }\n",
              "\n",
              "  .colab-df-quickchart:hover {\n",
              "    background-color: var(--hover-bg-color);\n",
              "    box-shadow: 0 1px 2px rgba(60, 64, 67, 0.3), 0 1px 3px 1px rgba(60, 64, 67, 0.15);\n",
              "    fill: var(--button-hover-fill-color);\n",
              "  }\n",
              "\n",
              "  .colab-df-quickchart-complete:disabled,\n",
              "  .colab-df-quickchart-complete:disabled:hover {\n",
              "    background-color: var(--disabled-bg-color);\n",
              "    fill: var(--disabled-fill-color);\n",
              "    box-shadow: none;\n",
              "  }\n",
              "\n",
              "  .colab-df-spinner {\n",
              "    border: 2px solid var(--fill-color);\n",
              "    border-color: transparent;\n",
              "    border-bottom-color: var(--fill-color);\n",
              "    animation:\n",
              "      spin 1s steps(1) infinite;\n",
              "  }\n",
              "\n",
              "  @keyframes spin {\n",
              "    0% {\n",
              "      border-color: transparent;\n",
              "      border-bottom-color: var(--fill-color);\n",
              "      border-left-color: var(--fill-color);\n",
              "    }\n",
              "    20% {\n",
              "      border-color: transparent;\n",
              "      border-left-color: var(--fill-color);\n",
              "      border-top-color: var(--fill-color);\n",
              "    }\n",
              "    30% {\n",
              "      border-color: transparent;\n",
              "      border-left-color: var(--fill-color);\n",
              "      border-top-color: var(--fill-color);\n",
              "      border-right-color: var(--fill-color);\n",
              "    }\n",
              "    40% {\n",
              "      border-color: transparent;\n",
              "      border-right-color: var(--fill-color);\n",
              "      border-top-color: var(--fill-color);\n",
              "    }\n",
              "    60% {\n",
              "      border-color: transparent;\n",
              "      border-right-color: var(--fill-color);\n",
              "    }\n",
              "    80% {\n",
              "      border-color: transparent;\n",
              "      border-right-color: var(--fill-color);\n",
              "      border-bottom-color: var(--fill-color);\n",
              "    }\n",
              "    90% {\n",
              "      border-color: transparent;\n",
              "      border-bottom-color: var(--fill-color);\n",
              "    }\n",
              "  }\n",
              "</style>\n",
              "\n",
              "      <script>\n",
              "        async function quickchart(key) {\n",
              "          const quickchartButtonEl =\n",
              "            document.querySelector('#' + key + ' button');\n",
              "          quickchartButtonEl.disabled = true;  // To prevent multiple clicks.\n",
              "          quickchartButtonEl.classList.add('colab-df-spinner');\n",
              "          try {\n",
              "            const charts = await google.colab.kernel.invokeFunction(\n",
              "                'suggestCharts', [key], {});\n",
              "          } catch (error) {\n",
              "            console.error('Error during call to suggestCharts:', error);\n",
              "          }\n",
              "          quickchartButtonEl.classList.remove('colab-df-spinner');\n",
              "          quickchartButtonEl.classList.add('colab-df-quickchart-complete');\n",
              "        }\n",
              "        (() => {\n",
              "          let quickchartButtonEl =\n",
              "            document.querySelector('#df-21526a31-d993-44e8-b8b0-b9ec5ac6154b button');\n",
              "          quickchartButtonEl.style.display =\n",
              "            google.colab.kernel.accessAllowed ? 'block' : 'none';\n",
              "        })();\n",
              "      </script>\n",
              "    </div>\n",
              "\n",
              "    </div>\n",
              "  </div>\n"
            ],
            "application/vnd.google.colaboratory.intrinsic+json": {
              "type": "dataframe",
              "summary": "{\n  \"name\": \"df\",\n  \"rows\": 8,\n  \"fields\": [\n    {\n      \"column\": \"Open\",\n      \"properties\": {\n        \"dtype\": \"number\",\n        \"std\": 1695.8479459448054,\n        \"min\": 2.470489978790283,\n        \"max\": 4842.0,\n        \"num_unique_values\": 8,\n        \"samples\": [\n          41.16440176510801,\n          26.47016143798828,\n          4842.0\n        ],\n        \"semantic_type\": \"\",\n        \"description\": \"\"\n      }\n    },\n    {\n      \"column\": \"High\",\n      \"properties\": {\n        \"dtype\": \"number\",\n        \"std\": 1695.7461347922508,\n        \"min\": 2.5340020656585693,\n        \"max\": 4842.0,\n        \"num_unique_values\": 8,\n        \"samples\": [\n          41.60190558044539,\n          26.668148040771484,\n          4842.0\n        ],\n        \"semantic_type\": \"\",\n        \"description\": \"\"\n      }\n    },\n    {\n      \"column\": \"Low\",\n      \"properties\": {\n        \"dtype\": \"number\",\n        \"std\": 1696.0217703564922,\n        \"min\": 2.3900420665740967,\n        \"max\": 4842.0,\n        \"num_unique_values\": 8,\n        \"samples\": [\n          40.74518837716057,\n          26.258999824523926,\n          4842.0\n        ],\n        \"semantic_type\": \"\",\n        \"description\": \"\"\n      }\n    },\n    {\n      \"column\": \"Close\",\n      \"properties\": {\n        \"dtype\": \"number\",\n        \"std\": 1695.8864661727575,\n        \"min\": 2.490912914276123,\n        \"max\": 4842.0,\n        \"num_unique_values\": 8,\n        \"samples\": [\n          41.181456908712896,\n          26.470152854919434,\n          4842.0\n        ],\n        \"semantic_type\": \"\",\n        \"description\": \"\"\n      }\n    },\n    {\n      \"column\": \"Adj Close\",\n      \"properties\": {\n        \"dtype\": \"number\",\n        \"std\": 1695.8864661727575,\n        \"min\": 2.490912914276123,\n        \"max\": 4842.0,\n        \"num_unique_values\": 8,\n        \"samples\": [\n          41.181456908712896,\n          26.470152854919434,\n          4842.0\n        ],\n        \"semantic_type\": \"\",\n        \"description\": \"\"\n      }\n    },\n    {\n      \"column\": \"Volume\",\n      \"properties\": {\n        \"dtype\": \"number\",\n        \"std\": 561354666.0311537,\n        \"min\": 4842.0,\n        \"max\": 1650832619.0,\n        \"num_unique_values\": 8,\n        \"samples\": [\n          119243199.31701776,\n          62025000.0,\n          4842.0\n        ],\n        \"semantic_type\": \"\",\n        \"description\": \"\"\n      }\n    }\n  ]\n}"
            }
          },
          "metadata": {},
          "execution_count": 7
        }
      ],
      "source": [
        "df.describe()"
      ]
    },
    {
      "cell_type": "markdown",
      "source": [
        "# **HOW MUCH ONE FEATURE IS RELATED TO OTHER ONE**"
      ],
      "metadata": {
        "id": "-PUYY63lLRGD"
      }
    },
    {
      "cell_type": "code",
      "source": [
        "feature = df.columns"
      ],
      "metadata": {
        "id": "xuSMiNKyFvdF"
      },
      "execution_count": null,
      "outputs": []
    },
    {
      "cell_type": "code",
      "source": [
        "print(feature)"
      ],
      "metadata": {
        "colab": {
          "base_uri": "https://localhost:8080/"
        },
        "id": "8syf3rT1BKdv",
        "outputId": "65740cbf-c44e-4bf0-88f9-25b075374011"
      },
      "execution_count": null,
      "outputs": [
        {
          "output_type": "stream",
          "name": "stdout",
          "text": [
            "Index(['Date', 'Open', 'High', 'Low', 'Close', 'Adj Close', 'Volume'], dtype='object')\n"
          ]
        }
      ]
    },
    {
      "cell_type": "code",
      "source": [
        "feature = feature[1:]"
      ],
      "metadata": {
        "id": "vy8tNcGvF0yL"
      },
      "execution_count": null,
      "outputs": []
    },
    {
      "cell_type": "code",
      "source": [
        "correlation = {}\n",
        "for i in range(len(feature)) :\n",
        "  for j in range(i +1):\n",
        "    correlation[f\"Correlation between {feature[i]} and {feature[j]}\"] = df[feature[i]].corr(df[feature[j]])\n"
      ],
      "metadata": {
        "id": "sgh6zb78BN9-"
      },
      "execution_count": null,
      "outputs": []
    },
    {
      "cell_type": "code",
      "source": [
        "correlation"
      ],
      "metadata": {
        "colab": {
          "base_uri": "https://localhost:8080/"
        },
        "id": "s0OXKv-HC3vx",
        "outputId": "998afd51-14eb-4814-a8aa-8d505444061e"
      },
      "execution_count": null,
      "outputs": [
        {
          "output_type": "execute_result",
          "data": {
            "text/plain": [
              "{'Correlation between Open and Open': np.float64(1.0),\n",
              " 'Correlation between High and Open': np.float64(0.9999024265636497),\n",
              " 'Correlation between High and High': np.float64(0.9999999999999998),\n",
              " 'Correlation between Low and Open': np.float64(0.9998947550818423),\n",
              " 'Correlation between Low and High': np.float64(0.9998741100411522),\n",
              " 'Correlation between Low and Low': np.float64(1.0),\n",
              " 'Correlation between Close and Open': np.float64(0.9997717806834042),\n",
              " 'Correlation between Close and High': np.float64(0.9998934019677148),\n",
              " 'Correlation between Close and Low': np.float64(0.9999027526730926),\n",
              " 'Correlation between Close and Close': np.float64(1.0),\n",
              " 'Correlation between Adj Close and Open': np.float64(0.9997717806834042),\n",
              " 'Correlation between Adj Close and High': np.float64(0.9998934019677148),\n",
              " 'Correlation between Adj Close and Low': np.float64(0.9999027526730926),\n",
              " 'Correlation between Adj Close and Close': np.float64(1.0),\n",
              " 'Correlation between Adj Close and Adj Close': np.float64(1.0),\n",
              " 'Correlation between Volume and Open': np.float64(-0.4714711164138611),\n",
              " 'Correlation between Volume and High': np.float64(-0.47046479256459756),\n",
              " 'Correlation between Volume and Low': np.float64(-0.47277571953775777),\n",
              " 'Correlation between Volume and Close': np.float64(-0.4717435129237179),\n",
              " 'Correlation between Volume and Adj Close': np.float64(-0.4717435129237179),\n",
              " 'Correlation between Volume and Volume': np.float64(1.0)}"
            ]
          },
          "metadata": {},
          "execution_count": 12
        }
      ]
    },
    {
      "cell_type": "markdown",
      "metadata": {
        "id": "idFweOF3X3T1"
      },
      "source": [
        "# **DATA PROCESSING**"
      ]
    },
    {
      "cell_type": "code",
      "execution_count": null,
      "metadata": {
        "id": "NfzwGwzEX2i1"
      },
      "outputs": [],
      "source": [
        "target_column = 'Close'\n",
        "feature_to_drop = 'Date'\n",
        "\n",
        "# Defining features and target\n",
        "X = df.drop(['Close', 'Date'], axis = 1)\n",
        "Y = df['Close']\n",
        "\n",
        "# Split the data into training and testing sets\n",
        "X_train, X_test, Y_train, Y_test = train_test_split(X, Y, test_size=0.2, random_state=42)\n"
      ]
    },
    {
      "cell_type": "markdown",
      "source": [
        "# **Feature Scaling**"
      ],
      "metadata": {
        "id": "ESRW_ELy7UJ8"
      }
    },
    {
      "cell_type": "markdown",
      "source": [
        "**I HAVE APPLIED THE STANDARIZATION (Z-score normalization, mean-centering and scaling by factor of standard deviation) FEATURE SCALING ONLY TO THE FEATURES COLUMNS**"
      ],
      "metadata": {
        "id": "u5wkT4Gz7zmL"
      }
    },
    {
      "cell_type": "code",
      "source": [
        "scaler = StandardScaler()\n",
        "X_train_scaled = scaler.fit_transform(X_train)\n",
        "X_test_scaled = scaler.transform(X_test)"
      ],
      "metadata": {
        "id": "3aW0nkBz7TJf"
      },
      "execution_count": null,
      "outputs": []
    },
    {
      "cell_type": "markdown",
      "source": [
        "# **Multiple Linear Regression through LinearRegression()**"
      ],
      "metadata": {
        "id": "ZQ393ohOOwZA"
      }
    },
    {
      "cell_type": "markdown",
      "source": [
        "# **When you use LinearRegression() from scikit-learn, even with multiple features, the model is fitted using the closed-form solution (also called the Normal Equation) — not through an iterative method like gradient descent.**"
      ],
      "metadata": {
        "id": "J7K2axqrL8Xb"
      }
    },
    {
      "cell_type": "markdown",
      "source": [
        "**Model call**"
      ],
      "metadata": {
        "id": "eltgOsyMCtVq"
      }
    },
    {
      "cell_type": "code",
      "source": [
        "model = LinearRegression()"
      ],
      "metadata": {
        "id": "8JbSLJD0O2WA"
      },
      "execution_count": null,
      "outputs": []
    },
    {
      "cell_type": "markdown",
      "source": [
        "**Model Train**"
      ],
      "metadata": {
        "id": "HQ11RSzNCwur"
      }
    },
    {
      "cell_type": "code",
      "source": [
        "start = time.time()\n",
        "model.fit(X_train_scaled,Y_train)\n",
        "end = time.time()\n",
        "print('The model has been trained.')\n",
        "print(f\"The time required for model training is {end-start}\")"
      ],
      "metadata": {
        "colab": {
          "base_uri": "https://localhost:8080/"
        },
        "id": "ZeSBVPUFPDb4",
        "outputId": "d6dded5e-4378-4d63-c774-48564568dc28"
      },
      "execution_count": null,
      "outputs": [
        {
          "output_type": "stream",
          "name": "stdout",
          "text": [
            "The model has been trained.\n",
            "The time required for model training is 0.020899534225463867\n"
          ]
        }
      ]
    },
    {
      "cell_type": "markdown",
      "source": [
        "**Prediction on Train and Test dataset**"
      ],
      "metadata": {
        "id": "iuvM432_C0aQ"
      }
    },
    {
      "cell_type": "code",
      "source": [
        "y_train_pred = model.predict(X_train_scaled)\n",
        "y_test_pred = model.predict(X_test_scaled)"
      ],
      "metadata": {
        "id": "AAoP1lIgPL84"
      },
      "execution_count": null,
      "outputs": []
    },
    {
      "cell_type": "code",
      "source": [
        "train_mse = mean_squared_error(Y_train, y_train_pred)\n",
        "test_mse = mean_squared_error(Y_test, y_test_pred)\n",
        "\n",
        "train_mae = mean_absolute_error(Y_train, y_train_pred)\n",
        "test_mae = mean_absolute_error(Y_test, y_test_pred)\n",
        "\n",
        "train_r2 = r2_score(Y_train, y_train_pred)\n",
        "test_r2 = r2_score(Y_test, y_test_pred)"
      ],
      "metadata": {
        "id": "bC-5iY7GPeEv"
      },
      "execution_count": null,
      "outputs": []
    },
    {
      "cell_type": "code",
      "source": [
        "diction = {\n",
        "    \"Train MSE\": train_mse,\n",
        "    \"Test MSE\": test_mse,\n",
        "    \"Train MAE\": train_mae,\n",
        "    \"Test MAE\": test_mae,\n",
        "    \"Train R²\": train_r2,\n",
        "    \"Test R²\": test_r2\n",
        "}\n",
        "\n",
        "result = pd.Series(diction)\n",
        "print(\"Model Evaluation Results:\\n\")\n",
        "print(result)"
      ],
      "metadata": {
        "colab": {
          "base_uri": "https://localhost:8080/"
        },
        "id": "AWwx7Z6SPoUg",
        "outputId": "2a7aea87-252e-43c8-c0ff-a157a1c32600"
      },
      "execution_count": null,
      "outputs": [
        {
          "output_type": "stream",
          "name": "stdout",
          "text": [
            "Model Evaluation Results:\n",
            "\n",
            "Train MSE    7.732945e-29\n",
            "Test MSE     6.249586e-29\n",
            "Train MAE    4.721128e-15\n",
            "Test MAE     4.334567e-15\n",
            "Train R²     1.000000e+00\n",
            "Test R²      1.000000e+00\n",
            "dtype: float64\n"
          ]
        }
      ]
    },
    {
      "cell_type": "markdown",
      "source": [
        "# **Manual Implemntation of Normal Equation(Closed Form Solution)**"
      ],
      "metadata": {
        "id": "Fc8fj5FuMhIR"
      }
    },
    {
      "cell_type": "markdown",
      "source": [
        "# **Add bias term (column of ones) to X matrices**"
      ],
      "metadata": {
        "id": "b0znW7e9PXTI"
      }
    },
    {
      "cell_type": "code",
      "source": [
        "X_train_b = np.concatenate((np.ones((X_train_scaled.shape[0], 1)), X_train_scaled),axis = 1)\n",
        "X_test_b = np.concatenate((np.ones((X_test_scaled.shape[0], 1)), X_test_scaled) , axis = 1)"
      ],
      "metadata": {
        "id": "jsOn6WrQPc-q"
      },
      "execution_count": null,
      "outputs": []
    },
    {
      "cell_type": "code",
      "source": [
        "X_train_b.shape"
      ],
      "metadata": {
        "colab": {
          "base_uri": "https://localhost:8080/"
        },
        "id": "R_L5xvACPx3p",
        "outputId": "9ff764a3-914d-4a07-c2ce-cf2c87f7fe0e"
      },
      "execution_count": null,
      "outputs": [
        {
          "output_type": "execute_result",
          "data": {
            "text/plain": [
              "(3873, 6)"
            ]
          },
          "metadata": {},
          "execution_count": 21
        }
      ]
    },
    {
      "cell_type": "code",
      "source": [
        "X_test_b.shape"
      ],
      "metadata": {
        "colab": {
          "base_uri": "https://localhost:8080/"
        },
        "id": "OKXprj6LP5Nt",
        "outputId": "501764e7-6d51-4e3b-a9fb-f95b5fd91e6f"
      },
      "execution_count": null,
      "outputs": [
        {
          "output_type": "execute_result",
          "data": {
            "text/plain": [
              "(969, 6)"
            ]
          },
          "metadata": {},
          "execution_count": 22
        }
      ]
    },
    {
      "cell_type": "markdown",
      "source": [
        "# **Apply Normal Equation**"
      ],
      "metadata": {
        "id": "neplvcbdPhhh"
      }
    },
    {
      "cell_type": "code",
      "source": [
        "theta_best = np.linalg.inv(X_train_b.T.dot(X_train_b)).dot(X_train_b.T).dot(Y_train)\n"
      ],
      "metadata": {
        "id": "ywxhyIwePk81"
      },
      "execution_count": null,
      "outputs": []
    },
    {
      "cell_type": "code",
      "source": [
        "theta_best.shape"
      ],
      "metadata": {
        "colab": {
          "base_uri": "https://localhost:8080/"
        },
        "id": "ma3jqSDDP9wk",
        "outputId": "b59db5f9-77c1-43a3-804d-1f4b068a1c1c"
      },
      "execution_count": null,
      "outputs": [
        {
          "output_type": "execute_result",
          "data": {
            "text/plain": [
              "(6,)"
            ]
          },
          "metadata": {},
          "execution_count": 24
        }
      ]
    },
    {
      "cell_type": "markdown",
      "source": [
        "# **Make prediction**"
      ],
      "metadata": {
        "id": "_W_P_BH-QLq8"
      }
    },
    {
      "cell_type": "code",
      "source": [
        "y_train_pred_ne = X_train_b.dot(theta_best)\n",
        "y_test_pred_ne = X_test_b.dot(theta_best)"
      ],
      "metadata": {
        "id": "Yob3EsHiQIlj"
      },
      "execution_count": null,
      "outputs": []
    },
    {
      "cell_type": "code",
      "source": [
        "y_train_pred_ne.shape"
      ],
      "metadata": {
        "colab": {
          "base_uri": "https://localhost:8080/"
        },
        "id": "dssdmJ5kQUH1",
        "outputId": "2dacfe53-69cc-43ba-8147-856cf275b891"
      },
      "execution_count": null,
      "outputs": [
        {
          "output_type": "execute_result",
          "data": {
            "text/plain": [
              "(3873,)"
            ]
          },
          "metadata": {},
          "execution_count": 26
        }
      ]
    },
    {
      "cell_type": "code",
      "source": [
        "y_test_pred_ne.shape"
      ],
      "metadata": {
        "colab": {
          "base_uri": "https://localhost:8080/"
        },
        "id": "gzIe_J7zQdhI",
        "outputId": "6e7bcbde-6f25-4c3a-c441-228b8c88396e"
      },
      "execution_count": null,
      "outputs": [
        {
          "output_type": "execute_result",
          "data": {
            "text/plain": [
              "(969,)"
            ]
          },
          "metadata": {},
          "execution_count": 27
        }
      ]
    },
    {
      "cell_type": "markdown",
      "source": [
        "# **Evaluation metrics**"
      ],
      "metadata": {
        "id": "13OvsTMLQjw4"
      }
    },
    {
      "cell_type": "code",
      "source": [
        "train_mse_ne = mean_squared_error(Y_train, y_train_pred_ne)\n",
        "test_mse_ne = mean_squared_error(Y_test, y_test_pred_ne)\n",
        "\n",
        "train_mae_ne = mean_absolute_error(Y_train, y_train_pred_ne)\n",
        "test_mae_ne = mean_absolute_error(Y_test, y_test_pred_ne)\n",
        "\n",
        "train_r2_ne = r2_score(Y_train, y_train_pred_ne)\n",
        "test_r2_ne = r2_score(Y_test, y_test_pred_ne)\n",
        "\n",
        "# Print results\n",
        "print(f\"Normal Equation Train MSE: {train_mse_ne}, Test MSE: {test_mse_ne}\")\n",
        "print(f\"Normal Equation Train MAE: {train_mae_ne}, Test MAE: {test_mae_ne}\")\n",
        "print(f\"Normal Equation Train R²: {train_r2_ne}, Test R²: {test_r2_ne}\")\n"
      ],
      "metadata": {
        "colab": {
          "base_uri": "https://localhost:8080/"
        },
        "id": "b9H6M87fO4vZ",
        "outputId": "936788dc-5384-422e-97e2-1f3ce73da255"
      },
      "execution_count": null,
      "outputs": [
        {
          "output_type": "stream",
          "name": "stdout",
          "text": [
            "Normal Equation Train MSE: 1.1857022559391201e-20, Test MSE: 1.1336933667480442e-20\n",
            "Normal Equation Train MAE: 8.660823110123575e-11, Test MAE: 8.691029778662922e-11\n",
            "Normal Equation Train R²: 1.0, Test R²: 1.0\n"
          ]
        }
      ]
    },
    {
      "cell_type": "markdown",
      "source": [
        "# **SVD that LinearRegresssion() by default perform**"
      ],
      "metadata": {
        "id": "H607mf5Zrf0s"
      }
    },
    {
      "cell_type": "code",
      "source": [
        "import numpy as np\n",
        "from sklearn.metrics import mean_squared_error, mean_absolute_error, r2_score\n",
        "\n",
        "# Add bias term to feature matrices\n",
        "X_train_b = np.concatenate((np.ones((X_train_scaled.shape[0], 1)), X_train_scaled), axis = 1 )\n",
        "X_test_b = np.concatenate((np.ones((X_test_scaled.shape[0], 1)), X_test_scaled), axis = 1)\n",
        "\n",
        "# SVD decomposition\n",
        "U, s, Vt = np.linalg.svd(X_train_b, full_matrices=False)\n",
        "S_inv = np.diag(1 / s)\n",
        "\n",
        "# Compute coefficients\n",
        "theta_svd = Vt.T @ S_inv @ U.T @ Y_train\n",
        "\n",
        "# Predictions\n",
        "y_train_pred_svd = X_train_b @ theta_svd\n",
        "y_test_pred_svd = X_test_b @ theta_svd\n",
        "\n",
        "# Evaluation metrics\n",
        "train_mse_svd = mean_squared_error(Y_train, y_train_pred_svd)\n",
        "test_mse_svd = mean_squared_error(Y_test, y_test_pred_svd)\n",
        "\n",
        "train_mae_svd = mean_absolute_error(Y_train, y_train_pred_svd)\n",
        "test_mae_svd = mean_absolute_error(Y_test, y_test_pred_svd)\n",
        "\n",
        "train_r2_svd = r2_score(Y_train, y_train_pred_svd)\n",
        "test_r2_svd = r2_score(Y_test, y_test_pred_svd)\n",
        "\n",
        "results = {\"Train\": pd.Series([train_mse_svd,train_mae_svd,train_r2_svd], index = [\"MSE\",\"MAE\",\"R²\"]), \"Test\": pd.Series([test_mse_svd,test_mae_svd,test_r2_svd], index = [\"MSE\",\"MAE\",\"R²\"])}\n",
        "\n",
        "results = pd.DataFrame(results)\n",
        "results\n"
      ],
      "metadata": {
        "colab": {
          "base_uri": "https://localhost:8080/",
          "height": 143
        },
        "id": "rru0q_a2rnwc",
        "outputId": "5be31513-3ac9-4809-ffd3-426508e9359d"
      },
      "execution_count": null,
      "outputs": [
        {
          "output_type": "execute_result",
          "data": {
            "text/plain": [
              "            Train          Test\n",
              "MSE  1.404528e-25  1.354264e-25\n",
              "MAE  2.989673e-13  3.010962e-13\n",
              "R²   1.000000e+00  1.000000e+00"
            ],
            "text/html": [
              "\n",
              "  <div id=\"df-e930c2ba-ad49-4999-9de5-77b426a6e1b2\" class=\"colab-df-container\">\n",
              "    <div>\n",
              "<style scoped>\n",
              "    .dataframe tbody tr th:only-of-type {\n",
              "        vertical-align: middle;\n",
              "    }\n",
              "\n",
              "    .dataframe tbody tr th {\n",
              "        vertical-align: top;\n",
              "    }\n",
              "\n",
              "    .dataframe thead th {\n",
              "        text-align: right;\n",
              "    }\n",
              "</style>\n",
              "<table border=\"1\" class=\"dataframe\">\n",
              "  <thead>\n",
              "    <tr style=\"text-align: right;\">\n",
              "      <th></th>\n",
              "      <th>Train</th>\n",
              "      <th>Test</th>\n",
              "    </tr>\n",
              "  </thead>\n",
              "  <tbody>\n",
              "    <tr>\n",
              "      <th>MSE</th>\n",
              "      <td>1.404528e-25</td>\n",
              "      <td>1.354264e-25</td>\n",
              "    </tr>\n",
              "    <tr>\n",
              "      <th>MAE</th>\n",
              "      <td>2.989673e-13</td>\n",
              "      <td>3.010962e-13</td>\n",
              "    </tr>\n",
              "    <tr>\n",
              "      <th>R²</th>\n",
              "      <td>1.000000e+00</td>\n",
              "      <td>1.000000e+00</td>\n",
              "    </tr>\n",
              "  </tbody>\n",
              "</table>\n",
              "</div>\n",
              "    <div class=\"colab-df-buttons\">\n",
              "\n",
              "  <div class=\"colab-df-container\">\n",
              "    <button class=\"colab-df-convert\" onclick=\"convertToInteractive('df-e930c2ba-ad49-4999-9de5-77b426a6e1b2')\"\n",
              "            title=\"Convert this dataframe to an interactive table.\"\n",
              "            style=\"display:none;\">\n",
              "\n",
              "  <svg xmlns=\"http://www.w3.org/2000/svg\" height=\"24px\" viewBox=\"0 -960 960 960\">\n",
              "    <path d=\"M120-120v-720h720v720H120Zm60-500h600v-160H180v160Zm220 220h160v-160H400v160Zm0 220h160v-160H400v160ZM180-400h160v-160H180v160Zm440 0h160v-160H620v160ZM180-180h160v-160H180v160Zm440 0h160v-160H620v160Z\"/>\n",
              "  </svg>\n",
              "    </button>\n",
              "\n",
              "  <style>\n",
              "    .colab-df-container {\n",
              "      display:flex;\n",
              "      gap: 12px;\n",
              "    }\n",
              "\n",
              "    .colab-df-convert {\n",
              "      background-color: #E8F0FE;\n",
              "      border: none;\n",
              "      border-radius: 50%;\n",
              "      cursor: pointer;\n",
              "      display: none;\n",
              "      fill: #1967D2;\n",
              "      height: 32px;\n",
              "      padding: 0 0 0 0;\n",
              "      width: 32px;\n",
              "    }\n",
              "\n",
              "    .colab-df-convert:hover {\n",
              "      background-color: #E2EBFA;\n",
              "      box-shadow: 0px 1px 2px rgba(60, 64, 67, 0.3), 0px 1px 3px 1px rgba(60, 64, 67, 0.15);\n",
              "      fill: #174EA6;\n",
              "    }\n",
              "\n",
              "    .colab-df-buttons div {\n",
              "      margin-bottom: 4px;\n",
              "    }\n",
              "\n",
              "    [theme=dark] .colab-df-convert {\n",
              "      background-color: #3B4455;\n",
              "      fill: #D2E3FC;\n",
              "    }\n",
              "\n",
              "    [theme=dark] .colab-df-convert:hover {\n",
              "      background-color: #434B5C;\n",
              "      box-shadow: 0px 1px 3px 1px rgba(0, 0, 0, 0.15);\n",
              "      filter: drop-shadow(0px 1px 2px rgba(0, 0, 0, 0.3));\n",
              "      fill: #FFFFFF;\n",
              "    }\n",
              "  </style>\n",
              "\n",
              "    <script>\n",
              "      const buttonEl =\n",
              "        document.querySelector('#df-e930c2ba-ad49-4999-9de5-77b426a6e1b2 button.colab-df-convert');\n",
              "      buttonEl.style.display =\n",
              "        google.colab.kernel.accessAllowed ? 'block' : 'none';\n",
              "\n",
              "      async function convertToInteractive(key) {\n",
              "        const element = document.querySelector('#df-e930c2ba-ad49-4999-9de5-77b426a6e1b2');\n",
              "        const dataTable =\n",
              "          await google.colab.kernel.invokeFunction('convertToInteractive',\n",
              "                                                    [key], {});\n",
              "        if (!dataTable) return;\n",
              "\n",
              "        const docLinkHtml = 'Like what you see? Visit the ' +\n",
              "          '<a target=\"_blank\" href=https://colab.research.google.com/notebooks/data_table.ipynb>data table notebook</a>'\n",
              "          + ' to learn more about interactive tables.';\n",
              "        element.innerHTML = '';\n",
              "        dataTable['output_type'] = 'display_data';\n",
              "        await google.colab.output.renderOutput(dataTable, element);\n",
              "        const docLink = document.createElement('div');\n",
              "        docLink.innerHTML = docLinkHtml;\n",
              "        element.appendChild(docLink);\n",
              "      }\n",
              "    </script>\n",
              "  </div>\n",
              "\n",
              "\n",
              "    <div id=\"df-5765942c-5756-4ffe-8819-81493ebaf95d\">\n",
              "      <button class=\"colab-df-quickchart\" onclick=\"quickchart('df-5765942c-5756-4ffe-8819-81493ebaf95d')\"\n",
              "                title=\"Suggest charts\"\n",
              "                style=\"display:none;\">\n",
              "\n",
              "<svg xmlns=\"http://www.w3.org/2000/svg\" height=\"24px\"viewBox=\"0 0 24 24\"\n",
              "     width=\"24px\">\n",
              "    <g>\n",
              "        <path d=\"M19 3H5c-1.1 0-2 .9-2 2v14c0 1.1.9 2 2 2h14c1.1 0 2-.9 2-2V5c0-1.1-.9-2-2-2zM9 17H7v-7h2v7zm4 0h-2V7h2v10zm4 0h-2v-4h2v4z\"/>\n",
              "    </g>\n",
              "</svg>\n",
              "      </button>\n",
              "\n",
              "<style>\n",
              "  .colab-df-quickchart {\n",
              "      --bg-color: #E8F0FE;\n",
              "      --fill-color: #1967D2;\n",
              "      --hover-bg-color: #E2EBFA;\n",
              "      --hover-fill-color: #174EA6;\n",
              "      --disabled-fill-color: #AAA;\n",
              "      --disabled-bg-color: #DDD;\n",
              "  }\n",
              "\n",
              "  [theme=dark] .colab-df-quickchart {\n",
              "      --bg-color: #3B4455;\n",
              "      --fill-color: #D2E3FC;\n",
              "      --hover-bg-color: #434B5C;\n",
              "      --hover-fill-color: #FFFFFF;\n",
              "      --disabled-bg-color: #3B4455;\n",
              "      --disabled-fill-color: #666;\n",
              "  }\n",
              "\n",
              "  .colab-df-quickchart {\n",
              "    background-color: var(--bg-color);\n",
              "    border: none;\n",
              "    border-radius: 50%;\n",
              "    cursor: pointer;\n",
              "    display: none;\n",
              "    fill: var(--fill-color);\n",
              "    height: 32px;\n",
              "    padding: 0;\n",
              "    width: 32px;\n",
              "  }\n",
              "\n",
              "  .colab-df-quickchart:hover {\n",
              "    background-color: var(--hover-bg-color);\n",
              "    box-shadow: 0 1px 2px rgba(60, 64, 67, 0.3), 0 1px 3px 1px rgba(60, 64, 67, 0.15);\n",
              "    fill: var(--button-hover-fill-color);\n",
              "  }\n",
              "\n",
              "  .colab-df-quickchart-complete:disabled,\n",
              "  .colab-df-quickchart-complete:disabled:hover {\n",
              "    background-color: var(--disabled-bg-color);\n",
              "    fill: var(--disabled-fill-color);\n",
              "    box-shadow: none;\n",
              "  }\n",
              "\n",
              "  .colab-df-spinner {\n",
              "    border: 2px solid var(--fill-color);\n",
              "    border-color: transparent;\n",
              "    border-bottom-color: var(--fill-color);\n",
              "    animation:\n",
              "      spin 1s steps(1) infinite;\n",
              "  }\n",
              "\n",
              "  @keyframes spin {\n",
              "    0% {\n",
              "      border-color: transparent;\n",
              "      border-bottom-color: var(--fill-color);\n",
              "      border-left-color: var(--fill-color);\n",
              "    }\n",
              "    20% {\n",
              "      border-color: transparent;\n",
              "      border-left-color: var(--fill-color);\n",
              "      border-top-color: var(--fill-color);\n",
              "    }\n",
              "    30% {\n",
              "      border-color: transparent;\n",
              "      border-left-color: var(--fill-color);\n",
              "      border-top-color: var(--fill-color);\n",
              "      border-right-color: var(--fill-color);\n",
              "    }\n",
              "    40% {\n",
              "      border-color: transparent;\n",
              "      border-right-color: var(--fill-color);\n",
              "      border-top-color: var(--fill-color);\n",
              "    }\n",
              "    60% {\n",
              "      border-color: transparent;\n",
              "      border-right-color: var(--fill-color);\n",
              "    }\n",
              "    80% {\n",
              "      border-color: transparent;\n",
              "      border-right-color: var(--fill-color);\n",
              "      border-bottom-color: var(--fill-color);\n",
              "    }\n",
              "    90% {\n",
              "      border-color: transparent;\n",
              "      border-bottom-color: var(--fill-color);\n",
              "    }\n",
              "  }\n",
              "</style>\n",
              "\n",
              "      <script>\n",
              "        async function quickchart(key) {\n",
              "          const quickchartButtonEl =\n",
              "            document.querySelector('#' + key + ' button');\n",
              "          quickchartButtonEl.disabled = true;  // To prevent multiple clicks.\n",
              "          quickchartButtonEl.classList.add('colab-df-spinner');\n",
              "          try {\n",
              "            const charts = await google.colab.kernel.invokeFunction(\n",
              "                'suggestCharts', [key], {});\n",
              "          } catch (error) {\n",
              "            console.error('Error during call to suggestCharts:', error);\n",
              "          }\n",
              "          quickchartButtonEl.classList.remove('colab-df-spinner');\n",
              "          quickchartButtonEl.classList.add('colab-df-quickchart-complete');\n",
              "        }\n",
              "        (() => {\n",
              "          let quickchartButtonEl =\n",
              "            document.querySelector('#df-5765942c-5756-4ffe-8819-81493ebaf95d button');\n",
              "          quickchartButtonEl.style.display =\n",
              "            google.colab.kernel.accessAllowed ? 'block' : 'none';\n",
              "        })();\n",
              "      </script>\n",
              "    </div>\n",
              "\n",
              "  <div id=\"id_2177521d-1c6c-46fe-aedb-3903e200ba10\">\n",
              "    <style>\n",
              "      .colab-df-generate {\n",
              "        background-color: #E8F0FE;\n",
              "        border: none;\n",
              "        border-radius: 50%;\n",
              "        cursor: pointer;\n",
              "        display: none;\n",
              "        fill: #1967D2;\n",
              "        height: 32px;\n",
              "        padding: 0 0 0 0;\n",
              "        width: 32px;\n",
              "      }\n",
              "\n",
              "      .colab-df-generate:hover {\n",
              "        background-color: #E2EBFA;\n",
              "        box-shadow: 0px 1px 2px rgba(60, 64, 67, 0.3), 0px 1px 3px 1px rgba(60, 64, 67, 0.15);\n",
              "        fill: #174EA6;\n",
              "      }\n",
              "\n",
              "      [theme=dark] .colab-df-generate {\n",
              "        background-color: #3B4455;\n",
              "        fill: #D2E3FC;\n",
              "      }\n",
              "\n",
              "      [theme=dark] .colab-df-generate:hover {\n",
              "        background-color: #434B5C;\n",
              "        box-shadow: 0px 1px 3px 1px rgba(0, 0, 0, 0.15);\n",
              "        filter: drop-shadow(0px 1px 2px rgba(0, 0, 0, 0.3));\n",
              "        fill: #FFFFFF;\n",
              "      }\n",
              "    </style>\n",
              "    <button class=\"colab-df-generate\" onclick=\"generateWithVariable('results')\"\n",
              "            title=\"Generate code using this dataframe.\"\n",
              "            style=\"display:none;\">\n",
              "\n",
              "  <svg xmlns=\"http://www.w3.org/2000/svg\" height=\"24px\"viewBox=\"0 0 24 24\"\n",
              "       width=\"24px\">\n",
              "    <path d=\"M7,19H8.4L18.45,9,17,7.55,7,17.6ZM5,21V16.75L18.45,3.32a2,2,0,0,1,2.83,0l1.4,1.43a1.91,1.91,0,0,1,.58,1.4,1.91,1.91,0,0,1-.58,1.4L9.25,21ZM18.45,9,17,7.55Zm-12,3A5.31,5.31,0,0,0,4.9,8.1,5.31,5.31,0,0,0,1,6.5,5.31,5.31,0,0,0,4.9,4.9,5.31,5.31,0,0,0,6.5,1,5.31,5.31,0,0,0,8.1,4.9,5.31,5.31,0,0,0,12,6.5,5.46,5.46,0,0,0,6.5,12Z\"/>\n",
              "  </svg>\n",
              "    </button>\n",
              "    <script>\n",
              "      (() => {\n",
              "      const buttonEl =\n",
              "        document.querySelector('#id_2177521d-1c6c-46fe-aedb-3903e200ba10 button.colab-df-generate');\n",
              "      buttonEl.style.display =\n",
              "        google.colab.kernel.accessAllowed ? 'block' : 'none';\n",
              "\n",
              "      buttonEl.onclick = () => {\n",
              "        google.colab.notebook.generateWithVariable('results');\n",
              "      }\n",
              "      })();\n",
              "    </script>\n",
              "  </div>\n",
              "\n",
              "    </div>\n",
              "  </div>\n"
            ],
            "application/vnd.google.colaboratory.intrinsic+json": {
              "type": "dataframe",
              "variable_name": "results",
              "summary": "{\n  \"name\": \"results\",\n  \"rows\": 3,\n  \"fields\": [\n    {\n      \"column\": \"Train\",\n      \"properties\": {\n        \"dtype\": \"number\",\n        \"std\": 0.5773502691895395,\n        \"min\": 1.4045284344244022e-25,\n        \"max\": 1.0,\n        \"num_unique_values\": 3,\n        \"samples\": [\n          1.4045284344244022e-25,\n          2.9896732305568275e-13,\n          1.0\n        ],\n        \"semantic_type\": \"\",\n        \"description\": \"\"\n      }\n    },\n    {\n      \"column\": \"Test\",\n      \"properties\": {\n        \"dtype\": \"number\",\n        \"std\": 0.5773502691895389,\n        \"min\": 1.3542644219298744e-25,\n        \"max\": 1.0,\n        \"num_unique_values\": 3,\n        \"samples\": [\n          1.3542644219298744e-25,\n          3.01096150649528e-13,\n          1.0\n        ],\n        \"semantic_type\": \"\",\n        \"description\": \"\"\n      }\n    }\n  ]\n}"
            }
          },
          "metadata": {},
          "execution_count": 29
        }
      ]
    },
    {
      "cell_type": "markdown",
      "source": [
        "# **Ridge Regression (Ridge()):**\n",
        "\n",
        "\n",
        "*   Adds L2 regularization to linear regression for Coefficient Shrinkage.\n",
        "\n",
        "\n",
        "#**Lasso Regression (Lasso()):**\n",
        "\n",
        "\n",
        "*   Adds L1 regularization to linear regression for feature selection.\n",
        "\n",
        "#**ElasticNet (ElasticNet()):**\n",
        "\n",
        "\n",
        "*   Combines both L1 and L2 regularization\n"
      ],
      "metadata": {
        "id": "lDcETvUmD139"
      }
    },
    {
      "cell_type": "markdown",
      "source": [
        "# **Lasso Regression**"
      ],
      "metadata": {
        "id": "zssfX408jz5e"
      }
    },
    {
      "cell_type": "code",
      "source": [
        "model1 = Lasso(alpha=0.1, max_iter=10000, tol=1e-4)\n",
        "model2 = Lasso(alpha=0.001, max_iter=10000, tol=1e-4)\n",
        "model3 = Lasso(alpha=0.000001, max_iter=10000, tol=1e-4)"
      ],
      "metadata": {
        "id": "_RhQEQ-bhXMn"
      },
      "execution_count": null,
      "outputs": []
    },
    {
      "cell_type": "code",
      "source": [
        "Lasso_models = {\"Lasso_1\": model1,\"Lasso_2\": model2,\"Lasso_3\": model3}"
      ],
      "metadata": {
        "id": "d5EBBi2kpdFZ"
      },
      "execution_count": null,
      "outputs": []
    },
    {
      "cell_type": "code",
      "source": [
        "# Store results\n",
        "results = {}"
      ],
      "metadata": {
        "id": "cSURo9o-qT4L"
      },
      "execution_count": null,
      "outputs": []
    },
    {
      "cell_type": "code",
      "source": [
        "for name, model in Lasso_models.items():\n",
        "    # Train the model\n",
        "    model.fit(X_train_scaled, Y_train)\n",
        "\n",
        "    # Predictions\n",
        "    y_train_pred = model.predict(X_train_scaled)\n",
        "    y_test_pred = model.predict(X_test_scaled)\n",
        "\n",
        "    # Metrics\n",
        "    train_mse = mean_squared_error(Y_train, y_train_pred)\n",
        "    test_mse = mean_squared_error(Y_test, y_test_pred)\n",
        "\n",
        "    train_mae = mean_absolute_error(Y_train, y_train_pred)\n",
        "    test_mae = mean_absolute_error(Y_test, y_test_pred)\n",
        "\n",
        "    train_r2 = r2_score(Y_train, y_train_pred)\n",
        "    test_r2 = r2_score(Y_test, y_test_pred)\n",
        "\n",
        "    results[name] = pd.Series([train_mse,test_mse, train_mae,test_mse,train_r2,test_r2], index = [\"Train MSE\",\"Test MSE\",\"Train MAE\",\"Test MAE\",\"Train R²\",\"Test R²\"])\n",
        "\n"
      ],
      "metadata": {
        "id": "fsIFiDV0pUAM"
      },
      "execution_count": null,
      "outputs": []
    },
    {
      "cell_type": "code",
      "source": [
        "# Show results as DataFrame\n",
        "results_df = pd.DataFrame(results)\n",
        "print(results_df)\n"
      ],
      "metadata": {
        "colab": {
          "base_uri": "https://localhost:8080/"
        },
        "id": "0CywqvVxspVt",
        "outputId": "c3c14663-cc05-4180-f31c-7402bfcb858d"
      },
      "execution_count": null,
      "outputs": [
        {
          "output_type": "stream",
          "name": "stdout",
          "text": [
            "            Lasso_1   Lasso_2   Lasso_3\n",
            "Train MSE  0.043100  0.049953  0.029205\n",
            "Test MSE   0.041208  0.056084  0.035426\n",
            "Train MAE  0.130876  0.121614  0.093416\n",
            "Test MAE   0.041208  0.056084  0.035426\n",
            "Train R²   0.999971  0.999966  0.999980\n",
            "Test R²    0.999971  0.999960  0.999975\n"
          ]
        }
      ]
    },
    {
      "cell_type": "markdown",
      "source": [
        "# **Ridge regression**"
      ],
      "metadata": {
        "id": "cHJZNrGszw67"
      }
    },
    {
      "cell_type": "code",
      "source": [
        "Ridge_model1 = Ridge(alpha=0.1,max_iter=1000,tol=0.001)\n",
        "Ridge_model2 = Ridge(alpha=0.5, solver='sag', max_iter=1000, tol=0.001, fit_intercept=True)\n",
        "Ridge_model3 = Ridge(alpha=1, solver='sag', max_iter=1000, tol=0.001, fit_intercept=True)"
      ],
      "metadata": {
        "id": "fKvSYD7yz0Pr"
      },
      "execution_count": null,
      "outputs": []
    },
    {
      "cell_type": "code",
      "source": [
        "Ridge_models = {\"Ridge_model1\": Ridge_model1,\"Ridge_model2\": Ridge_model2,\"Ridge_model3\": Ridge_model3}"
      ],
      "metadata": {
        "id": "6uJTg3lZ0Ab0"
      },
      "execution_count": null,
      "outputs": []
    },
    {
      "cell_type": "code",
      "source": [
        "# Store results\n",
        "results = {}"
      ],
      "metadata": {
        "id": "XleKyYTl0C48"
      },
      "execution_count": null,
      "outputs": []
    },
    {
      "cell_type": "code",
      "source": [
        "for name, model in Ridge_models.items():\n",
        "    # Train the model\n",
        "    model.fit(X_train_scaled, Y_train)\n",
        "\n",
        "    # Predictions\n",
        "    y_train_pred = model.predict(X_train_scaled)\n",
        "    y_test_pred = model.predict(X_test_scaled)\n",
        "\n",
        "    # Metrics\n",
        "    train_mse = mean_squared_error(Y_train, y_train_pred)\n",
        "    test_mse = mean_squared_error(Y_test, y_test_pred)\n",
        "\n",
        "    train_mae = mean_absolute_error(Y_train, y_train_pred)\n",
        "    test_mae = mean_absolute_error(Y_test, y_test_pred)\n",
        "\n",
        "    train_r2 = r2_score(Y_train, y_train_pred)\n",
        "    test_r2 = r2_score(Y_test, y_test_pred)\n",
        "\n",
        "    results[name] = pd.Series([train_mse,test_mse, train_mae,test_mse,train_r2,test_r2], index = [\"Train MSE\",\"Test MSE\",\"Train MAE\",\"Test MAE\",\"Train R²\",\"Test R²\"])\n",
        "\n"
      ],
      "metadata": {
        "id": "pfCmcpPt0I8U"
      },
      "execution_count": null,
      "outputs": []
    },
    {
      "cell_type": "code",
      "source": [
        "# Show results as DataFrame\n",
        "results_df = pd.DataFrame(results)\n",
        "print(results_df)\n"
      ],
      "metadata": {
        "colab": {
          "base_uri": "https://localhost:8080/"
        },
        "id": "anGwN5f80nTc",
        "outputId": "e9b81b0d-b7ce-4842-913d-8e52a987ca71"
      },
      "execution_count": null,
      "outputs": [
        {
          "output_type": "stream",
          "name": "stdout",
          "text": [
            "           Ridge_model1  Ridge_model2  Ridge_model3\n",
            "Train MSE      0.004133      0.039116      0.064433\n",
            "Test MSE       0.004394      0.040708      0.067465\n",
            "Train MAE      0.035216      0.107159      0.137053\n",
            "Test MAE       0.004394      0.040708      0.067465\n",
            "Train R²       0.999997      0.999974      0.999956\n",
            "Test R²        0.999997      0.999971      0.999952\n"
          ]
        }
      ]
    },
    {
      "cell_type": "markdown",
      "source": [
        "# **Elastic Net**"
      ],
      "metadata": {
        "id": "6fyCBDoD5GD8"
      }
    },
    {
      "cell_type": "code",
      "source": [
        "Elastic_net_model1 = ElasticNet(alpha=0.1, l1_ratio=0.5)\n",
        "Elastic_net_model2 = ElasticNet(alpha=0.001, l1_ratio=0.5)\n",
        "Elastic_net_model3 = ElasticNet(alpha=0.00001, l1_ratio=0.5)"
      ],
      "metadata": {
        "id": "Myy_lYeE5JAT"
      },
      "execution_count": null,
      "outputs": []
    },
    {
      "cell_type": "code",
      "source": [
        "Elastic_net_models = {\"Elastic_net_model1\": Elastic_net_model1,\"Elastic_net_model2\": Elastic_net_model2,\"Elastic_net_model3\": Elastic_net_model3}"
      ],
      "metadata": {
        "id": "xtBrujqz6HSD"
      },
      "execution_count": null,
      "outputs": []
    },
    {
      "cell_type": "code",
      "source": [
        "# Store results\n",
        "results = {}"
      ],
      "metadata": {
        "id": "dG6M-hwP5OtM"
      },
      "execution_count": null,
      "outputs": []
    },
    {
      "cell_type": "code",
      "source": [
        "for name, model in Elastic_net_models.items():\n",
        "    # Train the model\n",
        "    model.fit(X_train_scaled, Y_train)\n",
        "\n",
        "    # Predictions\n",
        "    y_train_pred = model.predict(X_train_scaled)\n",
        "    y_test_pred = model.predict(X_test_scaled)\n",
        "\n",
        "    # Metrics\n",
        "    train_mse = mean_squared_error(Y_train, y_train_pred)\n",
        "    test_mse = mean_squared_error(Y_test, y_test_pred)\n",
        "\n",
        "    train_mae = mean_absolute_error(Y_train, y_train_pred)\n",
        "    test_mae = mean_absolute_error(Y_test, y_test_pred)\n",
        "\n",
        "    train_r2 = r2_score(Y_train, y_train_pred)\n",
        "    test_r2 = r2_score(Y_test, y_test_pred)\n",
        "\n",
        "    results[name] = pd.Series([train_mse,test_mse, train_mae,test_mse,train_r2,test_r2], index = [\"Train MSE\",\"Test MSE\",\"Train MAE\",\"Test MAE\",\"Train R²\",\"Test R²\"])\n",
        "\n"
      ],
      "metadata": {
        "id": "1743JYAQ5Qpd",
        "colab": {
          "base_uri": "https://localhost:8080/"
        },
        "outputId": "630bf216-069c-4ac1-e85d-93e07c641589"
      },
      "execution_count": null,
      "outputs": [
        {
          "output_type": "stream",
          "name": "stderr",
          "text": [
            "/usr/local/lib/python3.11/dist-packages/sklearn/linear_model/_coordinate_descent.py:695: ConvergenceWarning: Objective did not converge. You might want to increase the number of iterations, check the scale of the features or consider increasing regularisation. Duality gap: 1.003e+03, tolerance: 5.728e+02\n",
            "  model = cd_fast.enet_coordinate_descent(\n",
            "/usr/local/lib/python3.11/dist-packages/sklearn/linear_model/_coordinate_descent.py:695: ConvergenceWarning: Objective did not converge. You might want to increase the number of iterations, check the scale of the features or consider increasing regularisation. Duality gap: 6.762e+02, tolerance: 5.728e+02\n",
            "  model = cd_fast.enet_coordinate_descent(\n"
          ]
        }
      ]
    },
    {
      "cell_type": "code",
      "source": [
        "# Show results as DataFrame\n",
        "results_df = pd.DataFrame(results)\n",
        "print(results_df)\n"
      ],
      "metadata": {
        "colab": {
          "base_uri": "https://localhost:8080/"
        },
        "id": "kzKF7u_u5SXF",
        "outputId": "6fb64ae9-d47d-44da-c080-81a449b0c8ea"
      },
      "execution_count": null,
      "outputs": [
        {
          "output_type": "stream",
          "name": "stdout",
          "text": [
            "           Elastic_net_model1  Elastic_net_model2  Elastic_net_model3\n",
            "Train MSE            0.488910            0.263784            0.345503\n",
            "Test MSE             0.438648            0.285314            0.376321\n",
            "Train MAE            0.495089            0.275615            0.314565\n",
            "Test MAE             0.438648            0.285314            0.376321\n",
            "Train R²             0.999669            0.999822            0.999766\n",
            "Test R²              0.999690            0.999798            0.999734\n"
          ]
        }
      ]
    },
    {
      "cell_type": "markdown",
      "source": [
        "# **Gradient Descent (GD) is an optimization algorithm used for finding the minimum of a function. In the case of linear regression, the function we're trying to minimize is the cost function, which measures how well our model fits the data (commonly Mean Squared Error (MSE)).1.   There are three types of gradient descent based on how much data is used to compute the gradient during each update:**\n",
        "\n",
        "\n",
        "1.   Batch Gradient Descent (BGD):\n",
        "\n",
        "\n",
        "*   It computes the gradient of the entire dataset before updating the model parameters.\n",
        "*   In BGD, all training examples are used to compute the gradients and update the model parameters.\n",
        "\n",
        "*  It's computationally expensive for large datasets.\n",
        "\n",
        "\n",
        "\n",
        "2. Stochastic Gradient Descent (SGD):\n",
        "\n",
        "\n",
        "*   It computes the gradient using just a single training example at a time.\n",
        "\n",
        "*   The model parameters are updated more frequently (after every example), which can lead to faster convergence but more noisy updates.\n",
        "\n",
        "\n",
        "\n",
        "3.   Mini-Batch Gradient Descent (MBGD):\n",
        "\n",
        "\n",
        "\n",
        "*   It’s a compromise between BGD and SGD. It computes the gradient using a small random subset (mini-batch) of the training dataset at a time.\n",
        "*   It is more computationally efficient than BGD and is less noisy than SGD.\n",
        "\n",
        "\n",
        "\n",
        "\n",
        "\n",
        "\n",
        "\n",
        "\n",
        "\n",
        "\n",
        "\n",
        "\n",
        "\n",
        "\n"
      ],
      "metadata": {
        "id": "BAKguutjJf6N"
      }
    },
    {
      "cell_type": "markdown",
      "source": [
        "# **Batch Gradient Descent (BGD) Implementation:**"
      ],
      "metadata": {
        "id": "TAOc-pQWJQIc"
      }
    },
    {
      "cell_type": "code",
      "source": [
        "class BatchGradientDescent:\n",
        "    def __init__(self, learning_rate=0.001, epochs=2000):\n",
        "        self.learning_rate = learning_rate\n",
        "        self.epochs = epochs\n",
        "        self.theta = None\n",
        "        self.loss_history = []  # Store MSE for each epoch\n",
        "\n",
        "    def fit(self, X, y):\n",
        "        m = len(y)\n",
        "        X_b = np.concatenate((np.ones((m, 1)), X), axis = 1)  # Add bias term\n",
        "        self.theta = np.zeros(X_b.shape[1])  # Initialize theta\n",
        "\n",
        "        for epoch in range(self.epochs):\n",
        "            predictions = X_b.dot(self.theta)\n",
        "            error = y - predictions\n",
        "            gradients = -(2/m) * X_b.T.dot(error)\n",
        "            self.theta -= self.learning_rate * gradients\n",
        "\n",
        "            mse = np.mean(error ** 2)\n",
        "            self.loss_history.append(mse)  # Save MSE for this epoch\n",
        "\n",
        "    def predict(self, X):\n",
        "        X_b = np.concatenate((np.ones((X.shape[0], 1)), X), axis = 1)\n",
        "        return X_b.dot(self.theta)\n",
        "\n",
        "\n"
      ],
      "metadata": {
        "id": "-s2JX4kSI5_M"
      },
      "execution_count": null,
      "outputs": []
    },
    {
      "cell_type": "markdown",
      "source": [
        "# **Object creation**"
      ],
      "metadata": {
        "id": "YnoUzNBdnARc"
      }
    },
    {
      "cell_type": "code",
      "source": [
        "bgd = BatchGradientDescent(learning_rate=0.001, epochs=2000)"
      ],
      "metadata": {
        "id": "_m7ooNIcm_Ij"
      },
      "execution_count": null,
      "outputs": []
    },
    {
      "cell_type": "markdown",
      "source": [
        "# **Train the model**"
      ],
      "metadata": {
        "id": "OMdkL_2Bo07-"
      }
    },
    {
      "cell_type": "code",
      "source": [
        "start = time.time()\n",
        "bgd.fit(X_train_scaled, Y_train)\n",
        "end = time.time()\n",
        "print(f\"The model takes {end - start} seconds for training\")"
      ],
      "metadata": {
        "colab": {
          "base_uri": "https://localhost:8080/"
        },
        "id": "Pgax4qqe-JcS",
        "outputId": "1a2e1802-dc8c-4c9b-b436-ecc2efc0f7dc"
      },
      "execution_count": null,
      "outputs": [
        {
          "output_type": "stream",
          "name": "stdout",
          "text": [
            "The model takes 0.328732967376709 seconds for training\n"
          ]
        }
      ]
    },
    {
      "cell_type": "markdown",
      "source": [
        "# **Prediction**"
      ],
      "metadata": {
        "id": "gKq8YO15-vEq"
      }
    },
    {
      "cell_type": "code",
      "source": [
        "y_train_pred_bgd = bgd.predict(X_train_scaled)\n",
        "y_test_pred_bgd = bgd.predict(X_test_scaled)\n",
        "\n",
        "# Evaluation metrics\n",
        "train_mse_bgd = mean_squared_error(Y_train, y_train_pred_bgd)\n",
        "test_mse_bgd = mean_squared_error(Y_test, y_test_pred_bgd)\n",
        "\n",
        "train_mae_bgd = mean_absolute_error(Y_train, y_train_pred_bgd)\n",
        "test_mae_bgd = mean_absolute_error(Y_test, y_test_pred_bgd)\n",
        "\n",
        "train_r2_bgd = r2_score(Y_train, y_train_pred_bgd)\n",
        "test_r2_bgd = r2_score(Y_test, y_test_pred_bgd)\n",
        "\n",
        "# Print evaluation\n",
        "print(\" Batch Gradient Descent Performance:\")\n",
        "result = {\n",
        "    \"Train\": pd.Series(\n",
        "        [round(train_mse_bgd, 4), round(train_mae_bgd, 4), round(train_r2_bgd, 4)],\n",
        "        index=[\"MSE\", \"MAE\", \"R²\"]\n",
        "    ),\n",
        "    \"Test\": pd.Series(\n",
        "        [round(test_mse_bgd, 4), round(test_mae_bgd, 4), round(test_r2_bgd, 4)],\n",
        "        index=[\"MSE\", \"MAE\", \"R²\"]\n",
        "    )\n",
        "}\n",
        "\n",
        "result_df = pd.DataFrame(result)\n",
        "print(result_df)\n",
        "\n",
        "# Plot loss per epoch\n",
        "plt.figure(figsize=(8, 5))\n",
        "plt.plot(bgd.loss_history, label='MSE Loss per Epoch', color='blue')\n",
        "plt.xlabel('Epoch')\n",
        "plt.ylabel('Mean Squared Error')\n",
        "plt.title('BGD: Loss Convergence Over Epochs')\n",
        "plt.grid(True)\n",
        "plt.legend()\n",
        "plt.tight_layout()\n",
        "plt.show()\n"
      ],
      "metadata": {
        "colab": {
          "base_uri": "https://localhost:8080/",
          "height": 594
        },
        "id": "pYz2UX_hm6HM",
        "outputId": "49886917-6d4a-4668-fcff-0f430525b04d"
      },
      "execution_count": null,
      "outputs": [
        {
          "output_type": "stream",
          "name": "stdout",
          "text": [
            " Batch Gradient Descent Performance:\n",
            "      Train    Test\n",
            "MSE  0.8003  0.7910\n",
            "MAE  0.7864  0.7833\n",
            "R²   0.9995  0.9994\n"
          ]
        },
        {
          "output_type": "display_data",
          "data": {
            "text/plain": [
              "<Figure size 800x500 with 1 Axes>"
            ],
            "image/png": "[encoded data removed]"
          },
          "metadata": {}
        }
      ]
    },
    {
      "cell_type": "markdown",
      "source": [
        "# **Stochastic Gradient Descent (SGD) Implementation:**"
      ],
      "metadata": {
        "id": "UEjaIKgeJMy3"
      }
    },
    {
      "cell_type": "code",
      "source": [
        "# Stochastic Gradient Descent with bias and loss plot\n",
        "class StochasticGradientDescent:\n",
        "    def __init__(self, learning_rate=0.01, epochs=100):\n",
        "        self.learning_rate = learning_rate\n",
        "        self.epochs = epochs\n",
        "        self.theta = None\n",
        "        self.loss_history = []\n",
        "\n",
        "    def fit(self, X, y):\n",
        "        X = np.array(X)\n",
        "        y = np.array(y)\n",
        "        m = len(y)\n",
        "        X_b = np.concatenate((np.ones((m, 1)), X), axis = 1 )  # Add bias (intercept) term\n",
        "        self.theta = np.zeros(X_b.shape[1])\n",
        "\n",
        "        for epoch in range(self.epochs):\n",
        "          indices = np.random.permutation(m)\n",
        "          X_shuffled = X_b[indices]\n",
        "          y_shuffled = y[indices]\n",
        "\n",
        "          for i in range(0, m):\n",
        "              xi = X_shuffled[i]\n",
        "              yi = y_shuffled[i]\n",
        "\n",
        "              predictions = xi.dot(self.theta)\n",
        "              error = yi - predictions\n",
        "\n",
        "              gradient = -2 * xi.T.dot(error)\n",
        "\n",
        "              self.theta -= self.learning_rate * gradient\n",
        "\n",
        "          mse = np.mean(error ** 2)\n",
        "          self.loss_history.append(mse)\n",
        "\n",
        "    def predict(self, X):\n",
        "        X_b = np.c_[np.ones((X.shape[0], 1)), X]  # Add bias term\n",
        "        return X_b.dot(self.theta)\n",
        "\n"
      ],
      "metadata": {
        "id": "7EifpWOxI_wk"
      },
      "execution_count": null,
      "outputs": []
    },
    {
      "cell_type": "markdown",
      "source": [
        "# **Object Creation**"
      ],
      "metadata": {
        "id": "inhi4AFH7W6Q"
      }
    },
    {
      "cell_type": "code",
      "source": [
        "sgd = StochasticGradientDescent(learning_rate=0.01, epochs=1000)"
      ],
      "metadata": {
        "id": "0npbsxHl7a7o"
      },
      "execution_count": null,
      "outputs": []
    },
    {
      "cell_type": "markdown",
      "source": [
        "# **Model Training**"
      ],
      "metadata": {
        "id": "9Q7VbFtc8hqC"
      }
    },
    {
      "cell_type": "code",
      "source": [
        "start = time.time()\n",
        "sgd.fit(X_train_scaled, Y_train)\n",
        "end = time.time()\n",
        "print(f\"Model takes {end - start}  seconds for traing\")"
      ],
      "metadata": {
        "colab": {
          "base_uri": "https://localhost:8080/"
        },
        "id": "V0If7s1a8fZB",
        "outputId": "ffd2e366-7d29-4091-ffbe-f3d62d602ba6"
      },
      "execution_count": null,
      "outputs": [
        {
          "output_type": "stream",
          "name": "stdout",
          "text": [
            "Model takes 16.73808717727661  seconds for traing\n"
          ]
        }
      ]
    },
    {
      "cell_type": "markdown",
      "source": [
        "# **Prediction**"
      ],
      "metadata": {
        "id": "8hnUA0B8-Cup"
      }
    },
    {
      "cell_type": "code",
      "source": [
        "y_train_pred_sgd = sgd.predict(X_train_scaled)\n",
        "y_test_pred_sgd = sgd.predict(X_test_scaled)\n",
        "\n",
        "# Metrics\n",
        "train_mse_sgd = mean_squared_error(Y_train, y_train_pred_sgd)\n",
        "test_mse_sgd = mean_squared_error(Y_test, y_test_pred_sgd)\n",
        "\n",
        "train_mae_sgd = mean_absolute_error(Y_train, y_train_pred_sgd)\n",
        "test_mae_sgd = mean_absolute_error(Y_test, y_test_pred_sgd)\n",
        "\n",
        "train_r2_sgd = r2_score(Y_train, y_train_pred_sgd)\n",
        "test_r2_sgd = r2_score(Y_test, y_test_pred_sgd)\n",
        "\n",
        "# Print evaluation\n",
        "print(\" Stochastic Gradient Descent Performance:\")\n",
        "result = {\n",
        "    \"Train\": pd.Series(\n",
        "        [round(train_mse_sgd, 4), round(train_mae_sgd, 4), round(train_r2_sgd, 4)],\n",
        "        index=[\"MSE\", \"MAE\", \"R²\"]\n",
        "    ),\n",
        "    \"Test\": pd.Series(\n",
        "        [round(test_mse_sgd, 4), round(test_mae_sgd, 4), round(test_r2_sgd, 4)],\n",
        "        index=[\"MSE\", \"MAE\", \"R²\"]\n",
        "    )\n",
        "}\n",
        "\n",
        "result_df = pd.DataFrame(result)\n",
        "print(result_df)\n",
        "\n",
        "# Plot loss per epoch\n",
        "plt.figure(figsize=(8, 5))\n",
        "plt.plot(sgd.loss_history, label='MSE Loss per Epoch', color='blue')\n",
        "plt.xlabel('Epoch')\n",
        "plt.ylabel('Mean Squared Error')\n",
        "plt.title('SGD: Loss Convergence Over Epochs')\n",
        "plt.grid(True)\n",
        "plt.legend()\n",
        "plt.tight_layout()\n",
        "plt.show()\n"
      ],
      "metadata": {
        "colab": {
          "base_uri": "https://localhost:8080/",
          "height": 594
        },
        "id": "cWva7DNZ7Vmw",
        "outputId": "25545151-caa9-40d4-d151-4ecf9c295501"
      },
      "execution_count": null,
      "outputs": [
        {
          "output_type": "stream",
          "name": "stdout",
          "text": [
            " Stochastic Gradient Descent Performance:\n",
            "      Train    Test\n",
            "MSE  0.0004  0.0005\n",
            "MAE  0.0137  0.0145\n",
            "R²   1.0000  1.0000\n"
          ]
        },
        {
          "output_type": "display_data",
          "data": {
            "text/plain": [
              "<Figure size 800x500 with 1 Axes>"
            ],
            "image/png": "[encoded data removed]"
          },
          "metadata": {}
        }
      ]
    },
    {
      "cell_type": "markdown",
      "source": [
        "# **Mini-Batch Gradient Descent (MBGD) Implementation**"
      ],
      "metadata": {
        "id": "SgmDDFWAJGeM"
      }
    },
    {
      "cell_type": "code",
      "source": [
        "class MiniBatchGradientDescent:\n",
        "    def __init__(self, learning_rate=0.001, epochs=100, batch_size=64):\n",
        "        self.learning_rate = learning_rate\n",
        "        self.epochs = epochs\n",
        "        self.batch_size = batch_size\n",
        "        self.theta = None\n",
        "        self.loss_history = []\n",
        "\n",
        "    def fit(self, X, y):\n",
        "        X = np.array(X)            # Ensure X is NumPy array\n",
        "        y = np.array(y)            # Ensure y is NumPy array\n",
        "        m = len(y)\n",
        "\n",
        "        # Add bias column\n",
        "        X_b = np.concatenate((np.ones((m, 1)), X), axis=1)\n",
        "\n",
        "        self.theta = np.random.randn(X_b.shape[1]) * 0.01\n",
        "\n",
        "        for epoch in range(self.epochs):\n",
        "            indices = np.random.permutation(m)\n",
        "            X_shuffled = X_b[indices]\n",
        "            y_shuffled = y[indices]\n",
        "\n",
        "            for i in range(0, m, self.batch_size):\n",
        "                xi = X_shuffled[i:i + self.batch_size]\n",
        "                yi = y_shuffled[i:i + self.batch_size]\n",
        "\n",
        "                predictions = xi.dot(self.theta)\n",
        "                error = yi - predictions\n",
        "\n",
        "                gradient = -(2 /self.batch_size) * xi.T.dot(error)\n",
        "\n",
        "                self.theta -= self.learning_rate * gradient\n",
        "\n",
        "            mse = np.mean(error ** 2)\n",
        "            self.loss_history.append(mse)\n",
        "\n",
        "    def predict(self, X):\n",
        "        X = np.array(X)\n",
        "        X_b = np.concatenate((np.ones((X.shape[0], 1)), X), axis=1)\n",
        "        return X_b.dot(self.theta)\n"
      ],
      "metadata": {
        "id": "8sxX309JttOq"
      },
      "execution_count": null,
      "outputs": []
    },
    {
      "cell_type": "markdown",
      "source": [
        "# **Object Creation**"
      ],
      "metadata": {
        "id": "Y4XagvBk3NeR"
      }
    },
    {
      "cell_type": "code",
      "source": [
        "mbgd = MiniBatchGradientDescent(learning_rate=0.001, epochs=100, batch_size=64)  # Adjusted learning rate and added regularization\n"
      ],
      "metadata": {
        "id": "NBaVGS0v0F2B"
      },
      "execution_count": null,
      "outputs": []
    },
    {
      "cell_type": "markdown",
      "source": [
        "# **Model Training**"
      ],
      "metadata": {
        "id": "vnnAZxDE3RYy"
      }
    },
    {
      "cell_type": "code",
      "source": [
        "start = time.time()\n",
        "mbgd.fit(X_train_scaled, Y_train)\n",
        "end = time.time()\n",
        "print(f\"The model takes {end - start} seconds for training\")"
      ],
      "metadata": {
        "colab": {
          "base_uri": "https://localhost:8080/"
        },
        "id": "okKGywtE4hEq",
        "outputId": "5b3be13a-82d9-4e4d-828d-74f60510f7fe"
      },
      "execution_count": null,
      "outputs": [
        {
          "output_type": "stream",
          "name": "stdout",
          "text": [
            "The model takes 0.04044079780578613 seconds for training\n"
          ]
        }
      ]
    },
    {
      "cell_type": "markdown",
      "source": [
        "# **Prediction**"
      ],
      "metadata": {
        "id": "EcYw_34V99L7"
      }
    },
    {
      "cell_type": "code",
      "source": [
        "# Predictions\n",
        "y_train_pred_mbgd = mbgd.predict(X_train_scaled)\n",
        "y_test_pred_mbgd = mbgd.predict(X_test_scaled)\n",
        "\n",
        "# Metrics\n",
        "train_mse_mbgd = mean_squared_error(Y_train, y_train_pred_mbgd)\n",
        "test_mse_mbgd = mean_squared_error(Y_test, y_test_pred_mbgd)\n",
        "train_mae_mbgd = mean_absolute_error(Y_train, y_train_pred_mbgd)\n",
        "test_mae_mbgd = mean_absolute_error(Y_test, y_test_pred_mbgd)\n",
        "train_r2_mbgd = r2_score(Y_train, y_train_pred_mbgd)\n",
        "test_r2_mbgd = r2_score(Y_test, y_test_pred_mbgd)\n",
        "\n",
        "# Print evaluation\n",
        "print(\" Mini Batch Gradient Descent Performance:\")\n",
        "result = {\n",
        "    \"Train\": pd.Series(\n",
        "        [round(train_mse_mbgd, 4), round(train_mae_mbgd, 4), round(train_r2_mbgd, 4)],\n",
        "        index=[\"MSE\", \"MAE\", \"R²\"]\n",
        "    ),\n",
        "    \"Test\": pd.Series(\n",
        "        [round(test_mse_mbgd, 4), round(test_mae_mbgd, 4), round(test_r2_mbgd, 4)],\n",
        "        index=[\"MSE\", \"MAE\", \"R²\"]\n",
        "    )\n",
        "}\n",
        "\n",
        "result_df = pd.DataFrame(result)\n",
        "print(result_df)\n",
        "\n",
        "# Plot loss per epoch\n",
        "plt.figure(figsize=(8, 5))\n",
        "plt.plot(mbgd.loss_history, label='MSE Loss per Epoch', color='blue')\n",
        "plt.xlabel('Epoch')\n",
        "plt.ylabel('Mean Squared Error')\n",
        "plt.title('MBGD: Loss Convergence Over Epochs')\n",
        "plt.grid(True)\n",
        "plt.legend()\n",
        "plt.tight_layout()\n",
        "plt.show()\n"
      ],
      "metadata": {
        "colab": {
          "base_uri": "https://localhost:8080/",
          "height": 594
        },
        "id": "h4HPOMto0JrJ",
        "outputId": "18767494-3fae-43cb-f33d-e6907f8cedec"
      },
      "execution_count": null,
      "outputs": [
        {
          "output_type": "stream",
          "name": "stdout",
          "text": [
            " Mini Batch Gradient Descent Performance:\n",
            "      Train    Test\n",
            "MSE  0.1743  0.1851\n",
            "MAE  0.2241  0.2236\n",
            "R²   0.9999  0.9999\n"
          ]
        },
        {
          "output_type": "display_data",
          "data": {
            "text/plain": [
              "<Figure size 800x500 with 1 Axes>"
            ],
            "image/png": "[encoded data removed]"
          },
          "metadata": {}
        }
      ]
    },
    {
      "cell_type": "code",
      "source": [],
      "metadata": {
        "id": "w_8ZRHzQS1L_"
      },
      "execution_count": null,
      "outputs": []
    }
  ],
  "metadata": {
    "colab": {
      "provenance": []
    },
    "kernelspec": {
      "display_name": "Python 3",
      "name": "python3"
    },
    "language_info": {
      "name": "python"
    }
  },
  "nbformat": 4,
  "nbformat_minor": 0
}